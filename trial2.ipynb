{
 "cells": [
  {
   "cell_type": "markdown",
   "id": "2d80871f-1a37-4433-b4e1-28cd28de2375",
   "metadata": {},
   "source": [
    "$index$"
   ]
  },
  {
   "cell_type": "code",
   "execution_count": 1,
   "id": "2fadef3b-f031-46d9-b706-86c2c43ed565",
   "metadata": {},
   "outputs": [
    {
     "data": {
      "text/plain": [
       "('p', 'y', 't', 'h', 'o', 'n')"
      ]
     },
     "execution_count": 1,
     "metadata": {},
     "output_type": "execute_result"
    }
   ],
   "source": [
    "string1 = 'python'\n",
    "string1[0],string1[1],string1[2],string1[3],string1[4],string1[5]"
   ]
  },
  {
   "cell_type": "code",
   "execution_count": 5,
   "id": "19da001a-8c96-417a-add2-e705d5ef24c3",
   "metadata": {},
   "outputs": [
    {
     "name": "stdout",
     "output_type": "stream",
     "text": [
      "the negative index of p is 0\n",
      "the negative index of y is 1\n",
      "the negative index of t is 2\n",
      "the negative index of h is 3\n",
      "the negative index of o is 4\n",
      "the negative index of n is 5\n"
     ]
    }
   ],
   "source": [
    "string1 = 'python'\n",
    "for i in range (len(string1)):\n",
    "    print(\"the negative index of {} is {}\".format(string1[i],i))"
   ]
  },
  {
   "cell_type": "code",
   "execution_count": 8,
   "id": "cb03ffee-f2f1-48bc-9495-2f9227473572",
   "metadata": {},
   "outputs": [
    {
     "name": "stdout",
     "output_type": "stream",
     "text": [
      "the negative of p is -6\n",
      "the negative of y is -5\n",
      "the negative of t is -4\n",
      "the negative of h is -3\n",
      "the negative of o is -2\n",
      "the negative of n is -1\n"
     ]
    }
   ],
   "source": [
    "string1 = 'python'\n",
    "for i in range (len(string1)):\n",
    "    print(\"the negative of {} is {}\".format(string1[i],i-6))"
   ]
  },
  {
   "cell_type": "code",
   "execution_count": 10,
   "id": "1f6c11da-82b4-475a-9a69-f29992b36f90",
   "metadata": {},
   "outputs": [
    {
     "name": "stdout",
     "output_type": "stream",
     "text": [
      "the positive of p is 0\n",
      "the positive of y is 1\n",
      "the positive of t is 2\n",
      "the positive of h is 3\n",
      "the positive of o is 4\n",
      "the positive of n is 5\n"
     ]
    }
   ],
   "source": [
    "string1 = 'python'\n",
    "for i in range (len(string1)):\n",
    "    print(\"the positive of {} is {}\".format(string1[i],i))"
   ]
  },
  {
   "cell_type": "code",
   "execution_count": 15,
   "id": "c16559d1-aea6-41d5-8ea2-650ee094a7db",
   "metadata": {},
   "outputs": [
    {
     "name": "stdout",
     "output_type": "stream",
     "text": [
      "the positive of p is 0\n",
      "the positive of y is 1\n",
      "the positive of t is 2\n",
      "the positive of h is 3\n",
      "the positive of o is 4\n",
      "the positive of n is 5\n",
      "the negative of p is -6\n",
      "the negative of y is -5\n",
      "the negative of t is -4\n",
      "the negative of h is -3\n",
      "the negative of o is -2\n",
      "the negative of n is -1\n",
      "the positive index is 0 and negative of p is -12\n",
      "the positive index is 1 and negative of y is -11\n",
      "the positive index is 2 and negative of t is -10\n",
      "the positive index is 3 and negative of h is -9\n",
      "the positive index is 4 and negative of o is -8\n",
      "the positive index is 5 and negative of n is -7\n"
     ]
    }
   ],
   "source": [
    "string1 = 'python'\n",
    "for i in range (-len(string1),0):\n",
    "    print(\"the positive of {} is {}\".format(string1[i],i+6))\n",
    "for i in range (-len(string1),0):\n",
    "    print(\"the negative of {} is {}\".format(string1[i],i))\n",
    "for i in range (-len(string1),0):\n",
    "    print(\"the positive index is {} and negative of {} is {}\".format(i+6,string1[i],i-6))\n",
    "\n"
   ]
  },
  {
   "cell_type": "code",
   "execution_count": 3,
   "id": "928062d6-5b40-466d-8796-220c5fab5f3c",
   "metadata": {},
   "outputs": [
    {
     "name": "stdout",
     "output_type": "stream",
     "text": [
      "the positive index is 0 and negative index is -6 for p\n",
      "the positive index is 1 and negative index is -5 for y\n",
      "the positive index is 2 and negative index is -4 for t\n",
      "the positive index is 3 and negative index is -3 for h\n",
      "the positive index is 4 and negative index is -2 for o\n",
      "the positive index is 5 and negative index is -1 for n\n"
     ]
    }
   ],
   "source": [
    "string1 = 'python'\n",
    "i = 0\n",
    "while i<len(string1):\n",
    "    print(\"the positive index is {} and negative index is {} for {}\".format(i,i-6,string1[i]))\n",
    "    i = i+1"
   ]
  },
  {
   "cell_type": "markdown",
   "id": "ecd9bd93-320e-4f14-8792-22bcb97b593d",
   "metadata": {},
   "source": [
    "**Mutable and Immutable**\n",
    "- string is immutable\n",
    "- list is mutable"
   ]
  },
  {
   "cell_type": "code",
   "execution_count": 2,
   "id": "94dadeba-3dc8-4d42-a359-a77162b48283",
   "metadata": {},
   "outputs": [
    {
     "data": {
      "text/plain": [
       "'p'"
      ]
     },
     "execution_count": 2,
     "metadata": {},
     "output_type": "execute_result"
    }
   ],
   "source": [
    "string = 'python'\n",
    "string[0] "
   ]
  },
  {
   "cell_type": "code",
   "execution_count": 5,
   "id": "57e6fa94-540a-4872-921f-a7790afe183c",
   "metadata": {},
   "outputs": [
    {
     "data": {
      "text/plain": [
       "[1000, 200, 300]"
      ]
     },
     "execution_count": 5,
     "metadata": {},
     "output_type": "execute_result"
    }
   ],
   "source": [
    "list = [100,200,300]\n",
    "list[0] = 1000\n",
    "list"
   ]
  },
  {
   "cell_type": "markdown",
   "id": "73cc644e-5a85-4061-bc18-b35889fcfb78",
   "metadata": {},
   "source": [
    "$slice$"
   ]
  },
  {
   "cell_type": "code",
   "execution_count": null,
   "id": "54bcb9d1-e7c0-4550-886c-dbafe8fa010a",
   "metadata": {},
   "outputs": [],
   "source": [
    "h  a  i     h  o  w     a  r  e       y   o   u\n",
    "0  1  2  3  4  5  6  7  8  9  10  11  12  13  14"
   ]
  },
  {
   "cell_type": "code",
   "execution_count": 6,
   "id": "287d025c-ad7a-4b6e-b970-6c2f64698f2f",
   "metadata": {},
   "outputs": [
    {
     "data": {
      "text/plain": [
       "'hai how are you'"
      ]
     },
     "execution_count": 6,
     "metadata": {},
     "output_type": "execute_result"
    }
   ],
   "source": [
    "string = 'hai how are you'\n",
    "string[2:10]\n",
    "\n",
    "#start = 2\n",
    "#stop = 10-1=9\n",
    "#positive\n",
    "\n",
    "string[2:10:3]\n",
    "\n",
    "#start = 2\n",
    "#direction = +      step===3\n",
    "#stop = 10-1=9\n",
    "# 2   5   8\n",
    "\n",
    "string[:]\n",
    "\n",
    "#nothing mentioned menas take start and last letter\n",
    "\n",
    "\n",
    "string[: :]\n",
    "\n",
    "#start = 0\n",
    "#stop = last letter len(string)\n",
    "#step = +1\n"
   ]
  },
  {
   "cell_type": "code",
   "execution_count": 10,
   "id": "faf0b333-ecca-44e4-b2be-ef07d5beed44",
   "metadata": {},
   "outputs": [
    {
     "data": {
      "text/plain": [
       "'ioa '"
      ]
     },
     "execution_count": 10,
     "metadata": {},
     "output_type": "execute_result"
    }
   ],
   "source": [
    " string[2:14:3]"
   ]
  },
  {
   "cell_type": "code",
   "execution_count": 11,
   "id": "870f6d6f-fa4a-4164-a241-f71d5726dcec",
   "metadata": {},
   "outputs": [
    {
     "data": {
      "text/plain": [
       "'i'"
      ]
     },
     "execution_count": 11,
     "metadata": {},
     "output_type": "execute_result"
    }
   ],
   "source": [
    "string[2:-14:-2]\n",
    "\n",
    "#start = 2\n",
    "#stop = -14+1=-13\n",
    "# 2"
   ]
  },
  {
   "cell_type": "code",
   "execution_count": 12,
   "id": "a904375b-1c95-46f6-ad7d-e1eda7b1e50c",
   "metadata": {},
   "outputs": [
    {
     "data": {
      "text/plain": [
       "' '"
      ]
     },
     "execution_count": 12,
     "metadata": {},
     "output_type": "execute_result"
    }
   ],
   "source": [
    "string[3:-14:-2]"
   ]
  },
  {
   "cell_type": "code",
   "execution_count": 13,
   "id": "088933e6-c7e6-499f-8d2d-6521bc5590df",
   "metadata": {},
   "outputs": [
    {
     "name": "stdout",
     "output_type": "stream",
     "text": [
      "2 0 -2 -4 -6 -8 -10 -12 "
     ]
    }
   ],
   "source": [
    "for i in range(2,-14,-2):print(i,end=' ')"
   ]
  },
  {
   "cell_type": "markdown",
   "id": "173b9f32-4227-42ab-bfcc-550aa1b4380d",
   "metadata": {},
   "source": [
    "**string methods**"
   ]
  },
  {
   "cell_type": "markdown",
   "id": "7a5cea3c-b2fd-4517-a917-c79810804c90",
   "metadata": {},
   "source": [
    "import <package_name>\n",
    "dir(<package_name>)\n",
    "help(<package_name>.<method_name>)"
   ]
  },
  {
   "cell_type": "code",
   "execution_count": 16,
   "id": "cea88f44-03fb-437f-8f8b-444e12afac81",
   "metadata": {},
   "outputs": [
    {
     "data": {
      "text/plain": [
       "['__add__',\n",
       " '__class__',\n",
       " '__contains__',\n",
       " '__delattr__',\n",
       " '__dir__',\n",
       " '__doc__',\n",
       " '__eq__',\n",
       " '__format__',\n",
       " '__ge__',\n",
       " '__getattribute__',\n",
       " '__getitem__',\n",
       " '__getnewargs__',\n",
       " '__getstate__',\n",
       " '__gt__',\n",
       " '__hash__',\n",
       " '__init__',\n",
       " '__init_subclass__',\n",
       " '__iter__',\n",
       " '__le__',\n",
       " '__len__',\n",
       " '__lt__',\n",
       " '__mod__',\n",
       " '__mul__',\n",
       " '__ne__',\n",
       " '__new__',\n",
       " '__reduce__',\n",
       " '__reduce_ex__',\n",
       " '__repr__',\n",
       " '__rmod__',\n",
       " '__rmul__',\n",
       " '__setattr__',\n",
       " '__sizeof__',\n",
       " '__str__',\n",
       " '__subclasshook__',\n",
       " 'capitalize',\n",
       " 'casefold',\n",
       " 'center',\n",
       " 'count',\n",
       " 'encode',\n",
       " 'endswith',\n",
       " 'expandtabs',\n",
       " 'find',\n",
       " 'format',\n",
       " 'format_map',\n",
       " 'index',\n",
       " 'isalnum',\n",
       " 'isalpha',\n",
       " 'isascii',\n",
       " 'isdecimal',\n",
       " 'isdigit',\n",
       " 'isidentifier',\n",
       " 'islower',\n",
       " 'isnumeric',\n",
       " 'isprintable',\n",
       " 'isspace',\n",
       " 'istitle',\n",
       " 'isupper',\n",
       " 'join',\n",
       " 'ljust',\n",
       " 'lower',\n",
       " 'lstrip',\n",
       " 'maketrans',\n",
       " 'partition',\n",
       " 'removeprefix',\n",
       " 'removesuffix',\n",
       " 'replace',\n",
       " 'rfind',\n",
       " 'rindex',\n",
       " 'rjust',\n",
       " 'rpartition',\n",
       " 'rsplit',\n",
       " 'rstrip',\n",
       " 'split',\n",
       " 'splitlines',\n",
       " 'startswith',\n",
       " 'strip',\n",
       " 'swapcase',\n",
       " 'title',\n",
       " 'translate',\n",
       " 'upper',\n",
       " 'zfill']"
      ]
     },
     "execution_count": 16,
     "metadata": {},
     "output_type": "execute_result"
    }
   ],
   "source": [
    "dir(' ')"
   ]
  },
  {
   "cell_type": "code",
   "execution_count": 19,
   "id": "afba41da-86f6-4b15-9c1e-3ae540fb74a3",
   "metadata": {},
   "outputs": [
    {
     "data": {
      "text/plain": [
       "'Welcome'"
      ]
     },
     "execution_count": 19,
     "metadata": {},
     "output_type": "execute_result"
    }
   ],
   "source": [
    "string = 'welcome'\n",
    "string.capitalize()"
   ]
  },
  {
   "cell_type": "code",
   "execution_count": 5,
   "id": "33099bb8-8cc6-4c24-9e58-a4fc1d1aaf40",
   "metadata": {},
   "outputs": [
    {
     "name": "stdout",
     "output_type": "stream",
     "text": [
      "2\n",
      "2\n",
      "0\n",
      "1\n"
     ]
    }
   ],
   "source": [
    "string = 'ola ola ola'\n",
    "print(string.count('a',4))\n",
    "print(string.count('a',6))\n",
    "print(string.count('a',4,6))\n",
    "print(string.count('a',4,7))"
   ]
  },
  {
   "cell_type": "code",
   "execution_count": 7,
   "id": "16f6e09c-9570-4605-870a-648a57c4ac4e",
   "metadata": {},
   "outputs": [
    {
     "name": "stdout",
     "output_type": "stream",
     "text": [
      "3\n"
     ]
    }
   ],
   "source": [
    "string = 'ola ola ola'\n",
    "count = 0\n",
    "for i in range(len(string)):\n",
    "    if string[i:i+3] == 'ola':\n",
    "        count+=1\n",
    "print(count)"
   ]
  },
  {
   "cell_type": "code",
   "execution_count": 14,
   "id": "2cdc3e0a-1716-49cf-98cf-1192de2d9049",
   "metadata": {},
   "outputs": [
    {
     "data": {
      "text/plain": [
       "'$estarrt rrrr'"
      ]
     },
     "execution_count": 14,
     "metadata": {},
     "output_type": "execute_result"
    }
   ],
   "source": [
    "string = 'restarrt rrrr'\n",
    "string.replace('r','$',-1)\n",
    "string.replace('r','$',1)"
   ]
  },
  {
   "cell_type": "code",
   "execution_count": 17,
   "id": "8dbcd1c0-38d5-434c-965a-b29ab2ad7b1f",
   "metadata": {},
   "outputs": [
    {
     "data": {
      "text/plain": [
       "'resta$t'"
      ]
     },
     "execution_count": 17,
     "metadata": {},
     "output_type": "execute_result"
    }
   ],
   "source": [
    "string = 'restart'\n",
    "s1 = string[0]\n",
    "s2 = string[1:].replace('r','$')\n",
    "s1+s2"
   ]
  },
  {
   "cell_type": "code",
   "execution_count": 20,
   "id": "cc6e8973-4d77-48e4-9115-c397c7d11802",
   "metadata": {},
   "outputs": [
    {
     "data": {
      "text/plain": [
       "3"
      ]
     },
     "execution_count": 20,
     "metadata": {},
     "output_type": "execute_result"
    }
   ],
   "source": [
    "string = 'welcome python'\n",
    "string.index('c')\n",
    "#string.index('z')"
   ]
  },
  {
   "cell_type": "code",
   "execution_count": 31,
   "id": "1c64aa22-7613-4d32-84e9-d4cf83b15d5c",
   "metadata": {},
   "outputs": [
    {
     "name": "stdout",
     "output_type": "stream",
     "text": [
      "41\n"
     ]
    },
    {
     "data": {
      "text/plain": [
       "2"
      ]
     },
     "execution_count": 31,
     "metadata": {},
     "output_type": "execute_result"
    }
   ],
   "source": [
    "#string = 'get me coffee'\n",
    "string = 'hai how are you'\n",
    "for i in string:\n",
    "    if i == 'a':\n",
    "        count+=1\n",
    "print(count)\n",
    "string.count('a')"
   ]
  },
  {
   "cell_type": "code",
   "execution_count": 41,
   "id": "a9ba581c-67a0-4c25-af39-44285a57a483",
   "metadata": {},
   "outputs": [
    {
     "data": {
      "text/plain": [
       "10"
      ]
     },
     "execution_count": 41,
     "metadata": {},
     "output_type": "execute_result"
    }
   ],
   "source": [
    "string = 'welcome helloo'\n",
    "string.index('l')\n",
    "string.index('l',string.index('l')+1)"
   ]
  },
  {
   "cell_type": "code",
   "execution_count": 51,
   "id": "c483b256-1613-4959-9923-8b9790a94cbf",
   "metadata": {},
   "outputs": [
    {
     "data": {
      "text/plain": [
       "1"
      ]
     },
     "execution_count": 51,
     "metadata": {},
     "output_type": "execute_result"
    }
   ],
   "source": [
    "string = 'hai hai'\n",
    "string.find('a')\n",
    "# string.find(\"z\")     =====if sub string not found it returns -1\n",
    "# string.count('z')    =====no error\n",
    "#string.index('z')      ====== sub string not found"
   ]
  },
  {
   "cell_type": "code",
   "execution_count": 54,
   "id": "93f8c2cf-5275-4b10-9a95-db01c57be954",
   "metadata": {},
   "outputs": [
    {
     "data": {
      "text/plain": [
       "'1489'"
      ]
     },
     "execution_count": 54,
     "metadata": {},
     "output_type": "execute_result"
    }
   ],
   "source": [
    "str1 = '3.1489'\n",
    "# Extract 3\n",
    "# Extract 1489\n",
    "\n",
    "str1[str1.index('.')-1]\n",
    "str1[str1.index('.')+1:]"
   ]
  },
  {
   "cell_type": "code",
   "execution_count": 56,
   "id": "2fc0ebb2-cea1-4007-8205-fedb2b51f82c",
   "metadata": {},
   "outputs": [
    {
     "data": {
      "text/plain": [
       "True"
      ]
     },
     "execution_count": 56,
     "metadata": {},
     "output_type": "execute_result"
    }
   ],
   "source": [
    "str1 = 'hai how are you'\n",
    "str1.startswith('hai')\n",
    "str1.endswith('you')"
   ]
  },
  {
   "cell_type": "code",
   "execution_count": 58,
   "id": "66943401-38fc-4b13-9d94-a94c1819dc9a",
   "metadata": {},
   "outputs": [
    {
     "data": {
      "text/plain": [
       "True"
      ]
     },
     "execution_count": 58,
     "metadata": {},
     "output_type": "execute_result"
    }
   ],
   "source": [
    "str1.startswith(str1)\n",
    "str1.endswith(str1)"
   ]
  },
  {
   "cell_type": "markdown",
   "id": "650d2382-1d24-44b6-9dc2-cd0cbe0d3eff",
   "metadata": {},
   "source": [
    "**List**\n",
    "- array of elements\n",
    "- list elements are heterogenes i.e different data types are allowed\n",
    "- list is an array of elements\n",
    "- duplicates are allowed"
   ]
  },
  {
   "cell_type": "code",
   "execution_count": 4,
   "id": "5fc72fa0-0b20-487b-b8d2-c1f145442332",
   "metadata": {},
   "outputs": [
    {
     "name": "stdout",
     "output_type": "stream",
     "text": [
      "4\n",
      "D\n"
     ]
    }
   ],
   "source": [
    "list = [1,2,3,4]\n",
    "print(max(list))\n",
    "list1 = ['A','B','C','D']\n",
    "print(max(list1))\n"
   ]
  },
  {
   "cell_type": "code",
   "execution_count": 5,
   "id": "0897af2d-cb5a-435e-98d9-0529e8efedd7",
   "metadata": {},
   "outputs": [
    {
     "name": "stdout",
     "output_type": "stream",
     "text": [
      "1\n",
      "A\n"
     ]
    }
   ],
   "source": [
    "list = [1,2,3,4]\n",
    "print(min(list))\n",
    "list1 = ['A','B','C','D']\n",
    "print(min(list1))\n"
   ]
  },
  {
   "cell_type": "code",
   "execution_count": 6,
   "id": "59680154-3f00-4215-b7d3-78ffab7d277f",
   "metadata": {},
   "outputs": [
    {
     "name": "stdout",
     "output_type": "stream",
     "text": [
      "4\n",
      "4\n"
     ]
    }
   ],
   "source": [
    "list = [1,2,3,4]\n",
    "print(len(list))\n",
    "list1 = ['A','B','C','D']\n",
    "print(len(list1))\n"
   ]
  },
  {
   "cell_type": "code",
   "execution_count": 7,
   "id": "f815319e-c067-467a-910f-2bf433fa2a9d",
   "metadata": {},
   "outputs": [
    {
     "ename": "TypeError",
     "evalue": "unsupported operand type(s) for +: 'int' and 'str'",
     "output_type": "error",
     "traceback": [
      "\u001b[31m---------------------------------------------------------------------------\u001b[39m",
      "\u001b[31mTypeError\u001b[39m                                 Traceback (most recent call last)",
      "\u001b[36mCell\u001b[39m\u001b[36m \u001b[39m\u001b[32mIn[7]\u001b[39m\u001b[32m, line 1\u001b[39m\n\u001b[32m----> \u001b[39m\u001b[32m1\u001b[39m \u001b[38;5;28;43msum\u001b[39;49m\u001b[43m(\u001b[49m\u001b[43mlist1\u001b[49m\u001b[43m)\u001b[49m\n",
      "\u001b[31mTypeError\u001b[39m: unsupported operand type(s) for +: 'int' and 'str'"
     ]
    }
   ],
   "source": [
    "sum(list1)"
   ]
  },
  {
   "cell_type": "markdown",
   "id": "26ba3531-2e21-4393-809e-aad36e060e24",
   "metadata": {},
   "source": [
    "## python index starts with zero i.e list[0],list[1]......"
   ]
  },
  {
   "cell_type": "code",
   "execution_count": 13,
   "id": "8229e63d-2fbb-4a77-84f0-0b783d17d71f",
   "metadata": {},
   "outputs": [
    {
     "name": "stdout",
     "output_type": "stream",
     "text": [
      "0\n",
      "1\n",
      "2\n",
      "3\n"
     ]
    }
   ],
   "source": [
    "for i in range(len(list1)):\n",
    "    print(i)"
   ]
  },
  {
   "cell_type": "code",
   "execution_count": 18,
   "id": "be545f7c-46b6-49fd-9693-f7cc698a5915",
   "metadata": {},
   "outputs": [
    {
     "name": "stdout",
     "output_type": "stream",
     "text": [
      "Ab\n",
      "Cd\n",
      "Ef\n"
     ]
    }
   ],
   "source": [
    "#WAP finnd the element which are having len<3\n",
    "#list=['Apple','Ball','CAt','Ab','Cd','Ef']\n",
    "\n",
    "list = ['Apple','Ball','CAt','Ab','Cd','Ef']\n",
    "for i in range (len(list)):\n",
    "    if (len(list[i])<3):\n",
    "        print(list[i])"
   ]
  },
  {
   "cell_type": "code",
   "execution_count": 19,
   "id": "4065ba5e-8a21-45d5-9a79-a12f2f6434bf",
   "metadata": {},
   "outputs": [
    {
     "name": "stdout",
     "output_type": "stream",
     "text": [
      "App#e\n",
      "B#ll\n",
      "C#t\n"
     ]
    }
   ],
   "source": [
    "#WAP find the element which are having # condition\n",
    "\n",
    "list = ['App#e','B#ll','C#t','Ab','Cd','Ef']\n",
    "for i in list:\n",
    "    if '#' in i:\n",
    "        print(i)"
   ]
  },
  {
   "cell_type": "code",
   "execution_count": 20,
   "id": "a677d5b9-4e26-4dd4-a0a1-2e7716a42d2a",
   "metadata": {},
   "outputs": [
    {
     "name": "stdout",
     "output_type": "stream",
     "text": [
      "3\n"
     ]
    }
   ],
   "source": [
    "list = ['App#e','B#ll','C#t','Ab','Cd','Ef']\n",
    "count = 0\n",
    "for i in list:\n",
    "    if '#' in i:\n",
    "        count = count+1\n",
    "print(count)"
   ]
  },
  {
   "cell_type": "code",
   "execution_count": 22,
   "id": "d239fe9d-c00f-4ddc-a533-fed6fb9bb0f3",
   "metadata": {},
   "outputs": [
    {
     "data": {
      "text/plain": [
       "'Ball'"
      ]
     },
     "execution_count": 22,
     "metadata": {},
     "output_type": "execute_result"
    }
   ],
   "source": [
    "list1 = [1,2,3,['Apple','Ball']]\n",
    "\n",
    "# retrive the ball using index\n",
    "# In the given list how many elements are ther : 4\n",
    "\n",
    "list1[3][1]\n"
   ]
  },
  {
   "cell_type": "code",
   "execution_count": 34,
   "id": "ff6ee719-67a6-46c7-b602-67017f39e605",
   "metadata": {},
   "outputs": [
    {
     "data": {
      "text/plain": [
       "'Cherry'"
      ]
     },
     "execution_count": 34,
     "metadata": {},
     "output_type": "execute_result"
    }
   ],
   "source": [
    "list2 = [[[[[[['Cherry']]]]]]]\n",
    "list2[0][0][0][0][0][0][0]"
   ]
  },
  {
   "cell_type": "code",
   "execution_count": 40,
   "id": "2824d413-6ec8-4a3b-bff6-202023b91074",
   "metadata": {},
   "outputs": [
    {
     "data": {
      "text/plain": [
       "'Car'"
      ]
     },
     "execution_count": 40,
     "metadata": {},
     "output_type": "execute_result"
    }
   ],
   "source": [
    "list3 = [[[['A','B',[[[1,2,3,['Car']]]]]]]]\n",
    "list3[0][0][0][2][0][0][3][0]\n",
    "            "
   ]
  },
  {
   "cell_type": "code",
   "execution_count": 41,
   "id": "e4498951-c2af-4eed-b5a7-3dd1bcd0c7c0",
   "metadata": {},
   "outputs": [
    {
     "ename": "TypeError",
     "evalue": "'str' object does not support item assignment",
     "output_type": "error",
     "traceback": [
      "\u001b[31m---------------------------------------------------------------------------\u001b[39m",
      "\u001b[31mTypeError\u001b[39m                                 Traceback (most recent call last)",
      "\u001b[36mCell\u001b[39m\u001b[36m \u001b[39m\u001b[32mIn[41]\u001b[39m\u001b[32m, line 3\u001b[39m\n\u001b[32m      1\u001b[39m string1 = \u001b[33m'\u001b[39m\u001b[33mwelcome\u001b[39m\u001b[33m'\u001b[39m\n\u001b[32m      2\u001b[39m \u001b[38;5;66;03m# 'l' to 'L'\u001b[39;00m\n\u001b[32m----> \u001b[39m\u001b[32m3\u001b[39m \u001b[43mstring1\u001b[49m\u001b[43m[\u001b[49m\u001b[32;43m2\u001b[39;49m\u001b[43m]\u001b[49m = \u001b[33m'\u001b[39m\u001b[33mL\u001b[39m\u001b[33m'\u001b[39m\n\u001b[32m      5\u001b[39m \u001b[38;5;66;03m#strigs are immutable\u001b[39;00m\n",
      "\u001b[31mTypeError\u001b[39m: 'str' object does not support item assignment"
     ]
    }
   ],
   "source": [
    "string1 = 'welcome'\n",
    "# 'l' to 'L'\n",
    "string1[2] = 'L'\n",
    "\n",
    "#strigs are immutable"
   ]
  },
  {
   "cell_type": "code",
   "execution_count": 42,
   "id": "d5dc3df1-1f81-4529-a0fe-8d02348eeffe",
   "metadata": {},
   "outputs": [
    {
     "data": {
      "text/plain": [
       "[100, 'b', 'c']"
      ]
     },
     "execution_count": 42,
     "metadata": {},
     "output_type": "execute_result"
    }
   ],
   "source": [
    "list1 = ['a','b','c']\n",
    "list1[0] = 100\n",
    "list1"
   ]
  },
  {
   "cell_type": "markdown",
   "id": "e076d848-ecb1-48f5-a032-7b70db3f173c",
   "metadata": {},
   "source": [
    "$slice$"
   ]
  },
  {
   "cell_type": "code",
   "execution_count": 43,
   "id": "548bf2b6-7cb2-4208-ae59-5e88bd7af77b",
   "metadata": {},
   "outputs": [
    {
     "name": "stdout",
     "output_type": "stream",
     "text": [
      "[30, 'P', 'H', 'a']\n",
      "[]\n",
      "[]\n",
      "[30]\n",
      "['b']\n",
      "[]\n",
      "['b', 'O', 'Y', 40]\n",
      "[]\n"
     ]
    }
   ],
   "source": [
    "list1 = [10,20,30,40,50,'P','Y','T','H','O','N','a','b','c']\n",
    "print(list1[2:14:3])     #possible\n",
    "print(list1[2:14:-3])     #not possible\n",
    "print(list1[2:-14:3])      #not possiblr\n",
    "print(list1[2:-14:-3])     #possible\n",
    "print(list1[-2:14:3])      #possible\n",
    "print(list1[-2:-14:3])     #not possible\n",
    "print(list1[-2:-14:-3])     #possible\n",
    "print(list1[-2:14:-3])        #not possible"
   ]
  },
  {
   "cell_type": "code",
   "execution_count": 53,
   "id": "2347c926-7384-4e69-a908-8a0247f4e010",
   "metadata": {},
   "outputs": [
    {
     "name": "stdout",
     "output_type": "stream",
     "text": [
      "list1: []\n",
      "list2: [1, 2, 3, 4]\n"
     ]
    }
   ],
   "source": [
    "list1 = [1,2,3,4]\n",
    "list2 = list1.copy()\n",
    "list2\n",
    "\n",
    "list1.clear()\n",
    "\n",
    "print('list1:',list1)\n",
    "print('list2:',list2)"
   ]
  },
  {
   "cell_type": "markdown",
   "id": "97578e73-38aa-4f45-ba97-d641a0e05824",
   "metadata": {},
   "source": [
    "#### List Method"
   ]
  },
  {
   "cell_type": "markdown",
   "id": "8700f0da-df56-4a09-8732-9edfde6bf097",
   "metadata": {},
   "source": [
    "$append$"
   ]
  },
  {
   "cell_type": "code",
   "execution_count": 3,
   "id": "4fd3baf0-a252-42ac-939e-c4ea421b396c",
   "metadata": {},
   "outputs": [
    {
     "data": {
      "text/plain": [
       "[100, 200, 300]"
      ]
     },
     "execution_count": 3,
     "metadata": {},
     "output_type": "execute_result"
    }
   ],
   "source": [
    "list1 = [100,200]\n",
    "list1.append(300)\n",
    "list1"
   ]
  },
  {
   "cell_type": "code",
   "execution_count": 5,
   "id": "aa5362dd-8c35-4148-8110-97203496e4b5",
   "metadata": {},
   "outputs": [
    {
     "data": {
      "text/plain": [
       "[100, 200, 300]"
      ]
     },
     "execution_count": 5,
     "metadata": {},
     "output_type": "execute_result"
    }
   ],
   "source": [
    "list1 = []\n",
    "list1.append(100)\n",
    "list1.append(200)\n",
    "list1.append(300)\n",
    "list1"
   ]
  },
  {
   "cell_type": "code",
   "execution_count": 2,
   "id": "983d49d8-0807-446c-ac02-8cbfdf9d1af5",
   "metadata": {},
   "outputs": [
    {
     "ename": "NameError",
     "evalue": "name 'list1' is not defined",
     "output_type": "error",
     "traceback": [
      "\u001b[31m---------------------------------------------------------------------------\u001b[39m",
      "\u001b[31mNameError\u001b[39m                                 Traceback (most recent call last)",
      "\u001b[36mCell\u001b[39m\u001b[36m \u001b[39m\u001b[32mIn[2]\u001b[39m\u001b[32m, line 1\u001b[39m\n\u001b[32m----> \u001b[39m\u001b[32m1\u001b[39m \u001b[43mlist1\u001b[49m.append([\u001b[32m100\u001b[39m,\u001b[32m200\u001b[39m])\n\u001b[32m      2\u001b[39m list1\n",
      "\u001b[31mNameError\u001b[39m: name 'list1' is not defined"
     ]
    }
   ],
   "source": [
    "list1.append([100,200])\n",
    "list1"
   ]
  },
  {
   "cell_type": "code",
   "execution_count": 6,
   "id": "28bc85a2-bdaa-436c-864e-68035ece36b0",
   "metadata": {},
   "outputs": [
    {
     "name": "stdout",
     "output_type": "stream",
     "text": [
      "1\n",
      "4\n",
      "9\n",
      "16\n",
      "25\n"
     ]
    },
    {
     "data": {
      "text/plain": [
       "[1, 4, 9, 16, 25]"
      ]
     },
     "execution_count": 6,
     "metadata": {},
     "output_type": "execute_result"
    }
   ],
   "source": [
    "#Input list = [1,22,3,4,5]\n",
    "#create a new list = [1,4,9,16,25]\n",
    "\n",
    "#write normal python code\n",
    "list1 = [1,2,3,4,5]\n",
    "for i in list1:\n",
    "    print(i*i)\n",
    "\n",
    "\n",
    "#i dont want print the values,i want to savelist\n",
    "\n",
    "list1 = [1,2,3,4,5]\n",
    "output = []\n",
    "for i in list1:\n",
    "    output.append(i*i)\n",
    "output"
   ]
  },
  {
   "cell_type": "code",
   "execution_count": 8,
   "id": "c3534805-72d3-4ad2-8128-d7cc5a88d789",
   "metadata": {},
   "outputs": [
    {
     "data": {
      "text/plain": [
       "['Hyd', 'Banglore', 'Delhi']"
      ]
     },
     "execution_count": 8,
     "metadata": {},
     "output_type": "execute_result"
    }
   ],
   "source": [
    "list2 = ['hyd','banglore','delhi']\n",
    "output = []\n",
    "for i in list2:\n",
    "    output.append(i.capitalize())\n",
    "output"
   ]
  },
  {
   "cell_type": "code",
   "execution_count": 11,
   "id": "87e854ac-55cc-41ae-bc0c-19c2e27b80ef",
   "metadata": {},
   "outputs": [
    {
     "data": {
      "text/plain": [
       "['h#d', 'beng#luru']"
      ]
     },
     "execution_count": 11,
     "metadata": {},
     "output_type": "execute_result"
    }
   ],
   "source": [
    "list3 = ['h#d','beng#luru','delhi']\n",
    "output = []\n",
    "for i  in list3:\n",
    "    if '#' in i:\n",
    "        output.append(i)\n",
    "output"
   ]
  },
  {
   "cell_type": "markdown",
   "id": "3d084c53-d1f5-4e91-b7ba-dcc1b12184ea",
   "metadata": {},
   "source": [
    "**list comprehension**"
   ]
  },
  {
   "cell_type": "code",
   "execution_count": 19,
   "id": "b7c91d4e-03f9-497a-8b27-994584387c00",
   "metadata": {},
   "outputs": [
    {
     "data": {
      "text/plain": [
       "['Hyd', 'Banglore', 'Delhi']"
      ]
     },
     "execution_count": 19,
     "metadata": {},
     "output_type": "execute_result"
    }
   ],
   "source": [
    "#Code in single line=====>speed the process\n",
    "\n",
    "list1 = [1,2,3,4,5]\n",
    "output = [i*i for i in list1]\n",
    "output\n",
    "\n",
    "\n",
    "#  [<output>  <for loop>]\n",
    "\n",
    "list2 = ['hyd','banglore','delhi']\n",
    "output1 = [(i.capitalize()) for i in list2]\n",
    "output1"
   ]
  },
  {
   "cell_type": "code",
   "execution_count": 30,
   "id": "4efca276-2c73-4936-ad72-15ba9558800a",
   "metadata": {},
   "outputs": [
    {
     "name": "stdout",
     "output_type": "stream",
     "text": [
      "1\n",
      "2\n",
      "3\n",
      "4\n",
      "5\n",
      "6\n",
      "7\n",
      "8\n",
      "9\n",
      "10\n",
      "11\n",
      "12\n",
      "13\n",
      "14\n",
      "15\n",
      "16\n",
      "17\n",
      "18\n",
      "19\n",
      "20\n"
     ]
    },
    {
     "data": {
      "text/plain": [
       "[1, 2, 3, 4, 5, 6, 7, 8, 9, 10, 11, 12, 13, 14, 15, 16, 17, 18, 19, 20]"
      ]
     },
     "execution_count": 30,
     "metadata": {},
     "output_type": "execute_result"
    }
   ],
   "source": [
    "#create the list of 20 number from 1 to 20\n",
    "\n",
    "\n",
    "#------Method 1-----------\n",
    "for i in range(1,21):\n",
    "    print(i)\n",
    "\n",
    "#--------Method 2------------\n",
    "numbers = []\n",
    "for i in range(1,21):\n",
    "    numbers.append(i)\n",
    "numbers\n",
    "\n",
    "#----------Method 3-----------\n",
    "numbers1 = [i for i in range(1,21)]\n",
    "numbers1"
   ]
  },
  {
   "cell_type": "code",
   "execution_count": 31,
   "id": "1012e177-a021-4c45-b65d-36610429433a",
   "metadata": {},
   "outputs": [
    {
     "data": {
      "text/plain": [
       "['h#d', 'beng#luru']"
      ]
     },
     "execution_count": 31,
     "metadata": {},
     "output_type": "execute_result"
    }
   ],
   "source": [
    "# list comprehension with <if condition>\n",
    "\n",
    "list3 = ['h#d','beng#luru','delhi']\n",
    "output = []\n",
    "for i  in list3:\n",
    "    if '#' in i:\n",
    "        output.append(i)\n",
    "output\n",
    "\n",
    "#[<o/p> <for loop> <if_condition>]\n",
    "output1 = [i for i in list3 if '#' in i]\n",
    "output1"
   ]
  },
  {
   "cell_type": "code",
   "execution_count": 33,
   "id": "a8fea5d0-7bf4-44cf-9a35-b99b5f427b8c",
   "metadata": {},
   "outputs": [
    {
     "data": {
      "text/plain": [
       "['ac', 'a']"
      ]
     },
     "execution_count": 33,
     "metadata": {},
     "output_type": "execute_result"
    }
   ],
   "source": [
    "list4 = ['abcd','abc','ac','a']\n",
    "\n",
    "# elements less than 3\n",
    "# ['ac','a']\n",
    "\n",
    "output = [i for i in list4 if len(i)<3]\n",
    "output"
   ]
  },
  {
   "cell_type": "code",
   "execution_count": 43,
   "id": "2915d9df-5dab-453d-a266-b6c5898f2861",
   "metadata": {},
   "outputs": [
    {
     "name": "stdout",
     "output_type": "stream",
     "text": [
      "odd:1\n",
      "even:2\n",
      "odd:3\n",
      "even:4\n",
      "odd:5\n",
      "even:6\n"
     ]
    },
    {
     "data": {
      "text/plain": [
       "['odd:1', 'even:2', 'odd:3', 'even:4', 'odd:5', 'even:6']"
      ]
     },
     "execution_count": 43,
     "metadata": {},
     "output_type": "execute_result"
    }
   ],
   "source": [
    "# if-else\n",
    "\n",
    "list1 = [1,2,3,4,5,6]\n",
    "for i in list1:\n",
    "    if i%2 == 0:\n",
    "        print(\"even:{}\".format(i))\n",
    "    else:\n",
    "        print(\"odd:{}\".format(i))\n",
    "\n",
    "\n",
    "list2 = [1,2,3,4,5,6]\n",
    "output = []\n",
    "for i in list2:\n",
    "    if i%2 == 0:\n",
    "        output.append(\"even:{}\".format(i))\n",
    "    else:\n",
    "        output.append(\"odd:{}\".format(i))\n",
    "output "
   ]
  },
  {
   "cell_type": "code",
   "execution_count": 48,
   "id": "dfefb62b-c24a-4218-ac6e-7ccdd37d4d23",
   "metadata": {},
   "outputs": [
    {
     "data": {
      "text/plain": [
       "<generator object <genexpr> at 0x0000014250CF0EE0>"
      ]
     },
     "execution_count": 48,
     "metadata": {},
     "output_type": "execute_result"
    }
   ],
   "source": [
    "# [<if_output> <if_condition> else <else_output> <for loop>]\n",
    "\n",
    "list2 = [1,2,3,4,5,6]\n",
    "output1 = (\"even:{}\".format(i) if i%2==0 else \"odd:{}\".format(i) for i in list2)\n",
    "output1"
   ]
  },
  {
   "cell_type": "code",
   "execution_count": 51,
   "id": "b63d369e-238d-475e-8084-5d8b212c6d91",
   "metadata": {},
   "outputs": [
    {
     "data": {
      "text/plain": [
       "3"
      ]
     },
     "execution_count": 51,
     "metadata": {},
     "output_type": "execute_result"
    }
   ],
   "source": [
    "list1 = [1,2,3,'A','B','B','B','C']\n",
    "list1.count('B')"
   ]
  },
  {
   "cell_type": "code",
   "execution_count": 52,
   "id": "fb803648-50dd-46d9-8b64-76a071a69a44",
   "metadata": {},
   "outputs": [
    {
     "name": "stdout",
     "output_type": "stream",
     "text": [
      "3\n"
     ]
    }
   ],
   "source": [
    "count = 0\n",
    "for i in list1:\n",
    "    if i == 'B':\n",
    "        count = count+1\n",
    "print(count)"
   ]
  },
  {
   "cell_type": "markdown",
   "id": "fd6a8d48-1214-4fe5-8ad7-ddd4682e0e9e",
   "metadata": {},
   "source": [
    "**Extend**"
   ]
  },
  {
   "cell_type": "code",
   "execution_count": 54,
   "id": "ed046076-8a9c-4109-b0ce-c08cbeba6cdc",
   "metadata": {},
   "outputs": [
    {
     "data": {
      "text/plain": [
       "['A', 'B', 'C', 1, 2, 3]"
      ]
     },
     "execution_count": 54,
     "metadata": {},
     "output_type": "execute_result"
    }
   ],
   "source": [
    "list1 = ['A','B','C']\n",
    "list2 = [1,2,3]\n",
    "list1.extend(list2)\n",
    "list1"
   ]
  },
  {
   "cell_type": "markdown",
   "id": "daf665ea-6211-4d92-b34b-3f8dc5a0459f",
   "metadata": {},
   "source": [
    "- append will add the element at llast,that element can be any type\n",
    "\n",
    "    list1 = [1,2,3]\n",
    "\n",
    "    list2 = ['a','b']\n",
    "\n",
    "    list1.append(list2)=[1,2,3['a','b']\n",
    "\n",
    "-extend will update the list by adding new element,the result also save in a same list\n",
    "\n",
    "     list1 = [1,2,3]\n",
    "\n",
    "    list2 = ['a','b']\n",
    "\n",
    "    list1.extend(list2)=[1,2,3['a','b']\n",
    "\n",
    "-concat will add two list,but the reult will not update in a same list\n",
    "\n",
    "     list1 = [1,2,3]\n",
    "\n",
    "    list2 = ['a','b']\n",
    "\n",
    "    list1=list2=[1,2,3['a','b']"
   ]
  },
  {
   "cell_type": "markdown",
   "id": "2dc2c0f6-b39a-4b2c-a68a-5d03f6677d8c",
   "metadata": {},
   "source": [
    "**iterators**"
   ]
  },
  {
   "cell_type": "code",
   "execution_count": 62,
   "id": "eaa22dcf-7d75-4f3c-bd63-4ff326caff2b",
   "metadata": {},
   "outputs": [
    {
     "data": {
      "text/plain": [
       "[1, 2, 3, 'Python']"
      ]
     },
     "execution_count": 62,
     "metadata": {},
     "output_type": "execute_result"
    }
   ],
   "source": [
    "list1=[1,2,3]\n",
    "#list1.extend(\"Python\")\n",
    "list1.append(\"Python\")\n",
    "list1"
   ]
  },
  {
   "cell_type": "code",
   "execution_count": 58,
   "id": "efc0434b-86ba-4514-9643-0309c68886db",
   "metadata": {},
   "outputs": [
    {
     "data": {
      "text/plain": [
       "<reversed at 0x14250c9e560>"
      ]
     },
     "execution_count": 58,
     "metadata": {},
     "output_type": "execute_result"
    }
   ],
   "source": [
    "vak=reversed(\"Python\")\n",
    "vak"
   ]
  },
  {
   "cell_type": "code",
   "execution_count": 59,
   "id": "50eed879-ee81-43a6-a46b-70b02c83b38f",
   "metadata": {},
   "outputs": [
    {
     "name": "stdout",
     "output_type": "stream",
     "text": [
      "n\n",
      "o\n",
      "h\n",
      "t\n",
      "y\n",
      "P\n"
     ]
    }
   ],
   "source": [
    "for i in vak:\n",
    "    print(i)"
   ]
  },
  {
   "cell_type": "markdown",
   "id": "3b986ed2-5dc9-4740-b579-8d4dd64ddb70",
   "metadata": {},
   "source": [
    "**pop-remove-del**\n",
    "\n",
    "    pop will take index\n",
    "    remove will take keyword"
   ]
  },
  {
   "cell_type": "code",
   "execution_count": 63,
   "id": "f0dc7144-502a-4249-a8b6-2a43c3f2ec5e",
   "metadata": {},
   "outputs": [
    {
     "data": {
      "text/plain": [
       "'Python'"
      ]
     },
     "execution_count": 63,
     "metadata": {},
     "output_type": "execute_result"
    }
   ],
   "source": [
    "list1.pop()"
   ]
  },
  {
   "cell_type": "code",
   "execution_count": 66,
   "id": "2e45c149-21f2-43f0-a20e-4a25fda7f3ec",
   "metadata": {},
   "outputs": [
    {
     "data": {
      "text/plain": [
       "[200, 300]"
      ]
     },
     "execution_count": 66,
     "metadata": {},
     "output_type": "execute_result"
    }
   ],
   "source": [
    "list1 = [100,200,300]\n",
    "list1.remove(100)\n",
    "list1"
   ]
  },
  {
   "cell_type": "code",
   "execution_count": 68,
   "id": "5b9b8108-fa64-4170-ab6a-745ad3e39ed2",
   "metadata": {},
   "outputs": [
    {
     "ename": "NameError",
     "evalue": "name 'list1' is not defined",
     "output_type": "error",
     "traceback": [
      "\u001b[31m---------------------------------------------------------------------------\u001b[39m",
      "\u001b[31mNameError\u001b[39m                                 Traceback (most recent call last)",
      "\u001b[36mCell\u001b[39m\u001b[36m \u001b[39m\u001b[32mIn[68]\u001b[39m\u001b[32m, line 1\u001b[39m\n\u001b[32m----> \u001b[39m\u001b[32m1\u001b[39m \u001b[38;5;28;01mdel\u001b[39;00m (\u001b[43mlist1\u001b[49m)\n",
      "\u001b[31mNameError\u001b[39m: name 'list1' is not defined"
     ]
    }
   ],
   "source": [
    "del (list1)"
   ]
  },
  {
   "cell_type": "code",
   "execution_count": 69,
   "id": "a268a560-b011-42b0-9da8-fea3d12a7a52",
   "metadata": {},
   "outputs": [
    {
     "data": {
      "text/plain": [
       "[100, 200, 400]"
      ]
     },
     "execution_count": 69,
     "metadata": {},
     "output_type": "execute_result"
    }
   ],
   "source": [
    "list1 = [100,200,300,400]\n",
    "del list1[2]\n",
    "list1"
   ]
  },
  {
   "cell_type": "markdown",
   "id": "f07f6d67-c447-42d1-a4cc-44edc200d76a",
   "metadata": {},
   "source": [
    "**zip**"
   ]
  },
  {
   "cell_type": "code",
   "execution_count": 70,
   "id": "05f1dbba-2e6c-48bd-a3e7-d132ccf32abd",
   "metadata": {},
   "outputs": [
    {
     "name": "stdout",
     "output_type": "stream",
     "text": [
      "Ram age is 25\n",
      "Robert age is 30\n",
      "Raheem age is 35\n"
     ]
    }
   ],
   "source": [
    "list1 = ['Ram','Robert','Raheem']\n",
    "list2 = [25,30,35]\n",
    "\n",
    "# Output\n",
    "# Ram age is 25\n",
    "# Robert age is 30\n",
    "# Rahem age is 35\n",
    " \n",
    "for i,j in zip(list1,list2):\n",
    "    print(\"{} age is {}\".format(i,j))"
   ]
  },
  {
   "cell_type": "code",
   "execution_count": 71,
   "id": "97d7033c-e1b2-4716-8b99-0c94b220b8f3",
   "metadata": {},
   "outputs": [
    {
     "name": "stdout",
     "output_type": "stream",
     "text": [
      "100 and25 is 125:\n",
      "200 and30 is 230:\n",
      "300 and35 is 335:\n"
     ]
    }
   ],
   "source": [
    "list1 = [100,200,300]\n",
    "list2 = [25,30,35]\n",
    "\n",
    "#output = [125,230,335]\n",
    "\n",
    "for i,j in zip(list1,list2):\n",
    "    print(\"{} and{} is {}:\".format(i,j,i+j))"
   ]
  },
  {
   "cell_type": "markdown",
   "id": "52138e1c-bb36-45ff-9836-85cd5aef5571",
   "metadata": {},
   "source": [
    "**{key:value}**"
   ]
  },
  {
   "cell_type": "code",
   "execution_count": 73,
   "id": "7ddc8bf4-03ad-4b44-b04e-d5e42530b0c0",
   "metadata": {},
   "outputs": [
    {
     "data": {
      "text/plain": [
       "{'Ram': 25, 'Raheem': 30, 'Robert': 35}"
      ]
     },
     "execution_count": 73,
     "metadata": {},
     "output_type": "execute_result"
    }
   ],
   "source": [
    "d1 = {'Ram':25,\n",
    "       'Raheem':30,\n",
    "        'Robert':35}\n",
    "d1\n",
    "\n",
    "#keys :'Ram',\"rahem','robert\n",
    "#values:20,30,35"
   ]
  },
  {
   "cell_type": "code",
   "execution_count": 76,
   "id": "37690c88-068d-4a8a-9491-fa4655652724",
   "metadata": {},
   "outputs": [
    {
     "data": {
      "text/plain": [
       "{'even': [2, 3, 4], 'odd': [3, 5, 7]}"
      ]
     },
     "execution_count": 76,
     "metadata": {},
     "output_type": "execute_result"
    }
   ],
   "source": [
    "d2 = {'even':[2,3,4],\n",
    "        'odd':[3,5,7]}\n",
    "d2"
   ]
  },
  {
   "cell_type": "code",
   "execution_count": 77,
   "id": "75f816a4-28db-4a0d-94ae-c1025ddf95ee",
   "metadata": {},
   "outputs": [
    {
     "data": {
      "text/plain": [
       "{(2, 4, 6): 'even', (3, 5, 7): 'odd'}"
      ]
     },
     "execution_count": 77,
     "metadata": {},
     "output_type": "execute_result"
    }
   ],
   "source": [
    "d3 ={(2,4,6):'even',\n",
    "        (3,5,7):'odd'\n",
    "    }\n",
    "d3"
   ]
  },
  {
   "cell_type": "code",
   "execution_count": 78,
   "id": "c9987aed-bb21-4314-9bc0-661a9f27d897",
   "metadata": {},
   "outputs": [
    {
     "ename": "TypeError",
     "evalue": "unhashable type: 'list'",
     "output_type": "error",
     "traceback": [
      "\u001b[31m---------------------------------------------------------------------------\u001b[39m",
      "\u001b[31mTypeError\u001b[39m                                 Traceback (most recent call last)",
      "\u001b[36mCell\u001b[39m\u001b[36m \u001b[39m\u001b[32mIn[78]\u001b[39m\u001b[32m, line 1\u001b[39m\n\u001b[32m----> \u001b[39m\u001b[32m1\u001b[39m d4 ={[\u001b[32m2\u001b[39m,\u001b[32m4\u001b[39m,\u001b[32m6\u001b[39m]:\u001b[33m'\u001b[39m\u001b[33meven\u001b[39m\u001b[33m'\u001b[39m,\n\u001b[32m      2\u001b[39m         [\u001b[32m3\u001b[39m,\u001b[32m5\u001b[39m,\u001b[32m7\u001b[39m]:\u001b[33m'\u001b[39m\u001b[33modd\u001b[39m\u001b[33m'\u001b[39m\n\u001b[32m      3\u001b[39m     }\n\u001b[32m      4\u001b[39m d4\n",
      "\u001b[31mTypeError\u001b[39m: unhashable type: 'list'"
     ]
    }
   ],
   "source": [
    "d4 ={[2,4,6]:'even',\n",
    "        [3,5,7]:'odd'\n",
    "    }\n",
    "d4       #Fails"
   ]
  },
  {
   "cell_type": "code",
   "execution_count": 80,
   "id": "78528e43-548c-48a1-8868-9dc1f5f6c5a8",
   "metadata": {},
   "outputs": [
    {
     "data": {
      "text/plain": [
       "{'item_list': {'fruit': 'Apple'}}"
      ]
     },
     "execution_count": 80,
     "metadata": {},
     "output_type": "execute_result"
    }
   ],
   "source": [
    "# {'key':<{}>}\n",
    "\n",
    "d5 = {'item_list':{'fruit':'Apple'}}\n",
    "d5"
   ]
  },
  {
   "cell_type": "code",
   "execution_count": 82,
   "id": "229207e1-5735-4d38-9520-bbc18ce9916b",
   "metadata": {},
   "outputs": [
    {
     "data": {
      "text/plain": [
       "{'A': 3, 'B': 2}"
      ]
     },
     "execution_count": 82,
     "metadata": {},
     "output_type": "execute_result"
    }
   ],
   "source": [
    "d1 = {'A':1,'B':2,'A':3}\n",
    "d1"
   ]
  },
  {
   "cell_type": "code",
   "execution_count": 83,
   "id": "21d9a6f9-a21f-4829-8e58-24b841af5317",
   "metadata": {},
   "outputs": [
    {
     "data": {
      "text/plain": [
       "{'even': [2, 3, 4], 'odd': [3, 5, 7]}"
      ]
     },
     "execution_count": 83,
     "metadata": {},
     "output_type": "execute_result"
    }
   ],
   "source": [
    "d1 = {'A':1,'B':2,'A':3}\n",
    "d2"
   ]
  },
  {
   "cell_type": "markdown",
   "id": "ec507dd1-8db7-49b0-b9f1-25c9f81160e5",
   "metadata": {},
   "source": [
    "- Dictionary is a key:vakue pair\n",
    "\n",
    "- at values position you can take any data type\n",
    "\n",
    "- at keys positions list and dictionary will fail\n",
    "\n",
    "- Duplicates are not allowed\n",
    "\n",
    "- if you update key value,latest value it will take"
   ]
  },
  {
   "cell_type": "markdown",
   "id": "7c481c8c-0b1a-422e-9fe3-52a5216e7a20",
   "metadata": {},
   "source": [
    "$type$"
   ]
  },
  {
   "cell_type": "code",
   "execution_count": 85,
   "id": "7b86017e-5dbd-44ca-877f-595840c68257",
   "metadata": {},
   "outputs": [
    {
     "data": {
      "text/plain": [
       "dict"
      ]
     },
     "execution_count": 85,
     "metadata": {},
     "output_type": "execute_result"
    }
   ],
   "source": [
    "type(d1)"
   ]
  },
  {
   "cell_type": "code",
   "execution_count": 88,
   "id": "1f3f62c0-3241-44de-a934-f45ac374b547",
   "metadata": {},
   "outputs": [
    {
     "data": {
      "text/plain": [
       "'Raheem'"
      ]
     },
     "execution_count": 88,
     "metadata": {},
     "output_type": "execute_result"
    }
   ],
   "source": [
    "d1 = {'Ram':25,\n",
    "       'Raheem':30,\n",
    "        'Robert':35}\n",
    "max(d1)"
   ]
  },
  {
   "cell_type": "code",
   "execution_count": 90,
   "id": "503d9809-2330-45ca-bbbe-7a45ea5f64b2",
   "metadata": {},
   "outputs": [
    {
     "data": {
      "text/plain": [
       "'Raha'"
      ]
     },
     "execution_count": 90,
     "metadata": {},
     "output_type": "execute_result"
    }
   ],
   "source": [
    "d1 = {'Ram':25,\n",
    "       'Raheem':30,\n",
    "        'Robert':35}\n",
    "min(d1)"
   ]
  },
  {
   "cell_type": "code",
   "execution_count": 91,
   "id": "e7181c86-470f-4521-a229-2f48415958cf",
   "metadata": {},
   "outputs": [
    {
     "data": {
      "text/plain": [
       "3"
      ]
     },
     "execution_count": 91,
     "metadata": {},
     "output_type": "execute_result"
    }
   ],
   "source": [
    "len(d1)"
   ]
  },
  {
   "cell_type": "markdown",
   "id": "c1304ccd-d29b-4a14-b1d4-5b7f15b19962",
   "metadata": {},
   "source": [
    "- Maximum and minimum valuse based in key"
   ]
  },
  {
   "cell_type": "code",
   "execution_count": null,
   "id": "13b96249-6b73-4982-a735-c47daed0ebe6",
   "metadata": {},
   "outputs": [],
   "source": [
    "sum(d1)"
   ]
  },
  {
   "cell_type": "code",
   "execution_count": 93,
   "id": "e60ce47d-4da2-4e79-ac62-f816663bafa9",
   "metadata": {},
   "outputs": [
    {
     "data": {
      "text/plain": [
       "400"
      ]
     },
     "execution_count": 93,
     "metadata": {},
     "output_type": "execute_result"
    }
   ],
   "source": [
    "d2 = {100:'2',300:'44'}\n",
    "sum(d2)\n",
    "\n",
    "# if key has numeric then we can do sum"
   ]
  },
  {
   "cell_type": "markdown",
   "id": "f8ab3ae0-a04d-4657-a2e5-c5b07184f27e",
   "metadata": {},
   "source": [
    "**index operator**"
   ]
  },
  {
   "cell_type": "code",
   "execution_count": 94,
   "id": "023baacb-dfd9-4df5-9196-1f26c161e113",
   "metadata": {},
   "outputs": [
    {
     "data": {
      "text/plain": [
       "10"
      ]
     },
     "execution_count": 94,
     "metadata": {},
     "output_type": "execute_result"
    }
   ],
   "source": [
    "l1 = [10,20,30,40]\n",
    "l1[0]\n"
   ]
  },
  {
   "cell_type": "code",
   "execution_count": 96,
   "id": "9daed554-d1b1-4c60-af5e-a754848b50f4",
   "metadata": {},
   "outputs": [
    {
     "data": {
      "text/plain": [
       "25"
      ]
     },
     "execution_count": 96,
     "metadata": {},
     "output_type": "execute_result"
    }
   ],
   "source": [
    "d1 = {'Ram':25,\n",
    "       'Raheem':30,\n",
    "        'Robert':35}\n",
    "d1['Ram']"
   ]
  },
  {
   "cell_type": "code",
   "execution_count": 100,
   "id": "511b23e6-7eed-4eea-b132-b53f40bb3476",
   "metadata": {},
   "outputs": [
    {
     "name": "stdout",
     "output_type": "stream",
     "text": [
      "the age of Ram is 25\n",
      "the age of Raheem is 30\n",
      "the age of Robert is 35\n"
     ]
    }
   ],
   "source": [
    "for key in d1:\n",
    "    print(\"the age of {} is {}\".format(key,d1[key]))"
   ]
  },
  {
   "cell_type": "code",
   "execution_count": 102,
   "id": "cc73aeed-c2e6-4f78-9230-f6219ae5520d",
   "metadata": {},
   "outputs": [
    {
     "name": "stdout",
     "output_type": "stream",
     "text": [
      "0 10\n",
      "1 20\n",
      "2 30\n",
      "3 40\n"
     ]
    }
   ],
   "source": [
    "for i in range(len(l1)):\n",
    "    print(i,l1[i])"
   ]
  },
  {
   "cell_type": "code",
   "execution_count": 103,
   "id": "4df7e5db-dfd5-447e-906f-fd46068e89b3",
   "metadata": {},
   "outputs": [
    {
     "name": "stdout",
     "output_type": "stream",
     "text": [
      "0\n",
      "1\n",
      "2\n"
     ]
    }
   ],
   "source": [
    "for key in range(len(d1)):\n",
    "    print(key)   \n"
   ]
  },
  {
   "cell_type": "markdown",
   "id": "03672a51-cf24-40ff-b800-7f23169223a8",
   "metadata": {},
   "source": [
    "**Crteating a empty dictionary and update**"
   ]
  },
  {
   "cell_type": "code",
   "execution_count": 104,
   "id": "dcfd2d77-cb27-4aca-b2d2-13b447f7d3a9",
   "metadata": {},
   "outputs": [
    {
     "name": "stdout",
     "output_type": "stream",
     "text": [
      "apple\n"
     ]
    }
   ],
   "source": [
    "s = ''\n",
    "\n",
    "for i in 'apple':\n",
    "    s=s+i\n",
    "print(s)"
   ]
  },
  {
   "cell_type": "code",
   "execution_count": 105,
   "id": "db78900b-9bbc-40bc-b7dd-9042a27626cd",
   "metadata": {},
   "outputs": [
    {
     "data": {
      "text/plain": [
       "[0, 1, 2, 3, 4, 5, 6, 7, 8, 9]"
      ]
     },
     "execution_count": 105,
     "metadata": {},
     "output_type": "execute_result"
    }
   ],
   "source": [
    "l = [i for i in range(10)]\n",
    "\n",
    "l = []\n",
    "for i in range(10):\n",
    "    l.append(i)\n",
    "l"
   ]
  },
  {
   "cell_type": "code",
   "execution_count": 106,
   "id": "cacedac0-3c4e-4588-8dbf-e747b74ab080",
   "metadata": {},
   "outputs": [
    {
     "data": {
      "text/plain": [
       "{'fruit': 'Apple'}"
      ]
     },
     "execution_count": 106,
     "metadata": {},
     "output_type": "execute_result"
    }
   ],
   "source": [
    "d1 = {}\n",
    "d1['fruit'] = 'Apple'\n",
    "d1"
   ]
  },
  {
   "cell_type": "code",
   "execution_count": 107,
   "id": "dcba1119-650d-49d5-b835-b766729ed19b",
   "metadata": {},
   "outputs": [
    {
     "data": {
      "text/plain": [
       "{'first name': 'Manasvi',\n",
       " 'surname': 'Bambode',\n",
       " 'Native': 'Bhadrawati',\n",
       " 'State': 'Maharashtra'}"
      ]
     },
     "execution_count": 107,
     "metadata": {},
     "output_type": "execute_result"
    }
   ],
   "source": [
    "d1 = {}\n",
    "d1[\"first name\"] = \"Manasvi\"\n",
    "d1[\"surname\"] = \"Bambode\"\n",
    "d1[\"Native\"] = \"Bhadrawati\"\n",
    "d1[\"first name\"] = \"Manasvi\"\n",
    "d1[\"State\"] = \"Maharashtra\"\n",
    "d1"
   ]
  },
  {
   "cell_type": "code",
   "execution_count": 111,
   "id": "dd619aae-98ca-48b6-8215-84e04aa99c29",
   "metadata": {},
   "outputs": [
    {
     "data": {
      "text/plain": [
       "{'Ram': 25, 'Raheem': 30, 'Robert': 35}"
      ]
     },
     "execution_count": 111,
     "metadata": {},
     "output_type": "execute_result"
    }
   ],
   "source": [
    "#WAP create a dictinoary based on 2 list\n",
    "name = ['Ram','Raheem','Robert']\n",
    "age = [25,30,35]\n",
    "d1 ={}\n",
    "for i,j in zip(name,age):\n",
    "    d1[i]=j\n",
    "d1"
   ]
  },
  {
   "cell_type": "code",
   "execution_count": 112,
   "id": "2cc9071e-3319-42a0-bbb7-abee315d8758",
   "metadata": {},
   "outputs": [
    {
     "data": {
      "text/plain": [
       "{'Ram': 25, 'Raheem': 30, 'Robert': 35}"
      ]
     },
     "execution_count": 112,
     "metadata": {},
     "output_type": "execute_result"
    }
   ],
   "source": [
    "for i in range(len(name)):\n",
    "    #print(i,name[i],age[i])\n",
    "    d1[name[i]]=age[i]\n",
    "d1"
   ]
  },
  {
   "cell_type": "code",
   "execution_count": 113,
   "id": "328b05fd-6e68-45de-a65c-08181823a7ab",
   "metadata": {},
   "outputs": [],
   "source": [
    "import os"
   ]
  },
  {
   "cell_type": "code",
   "execution_count": 114,
   "id": "8d6ddd0f-7a02-4d62-bdf1-66e413fb3542",
   "metadata": {},
   "outputs": [
    {
     "data": {
      "text/plain": [
       "'C:\\\\Users\\\\manas\\\\OneDrive\\\\Documents\\\\DataSci_NareshIT'"
      ]
     },
     "execution_count": 114,
     "metadata": {},
     "output_type": "execute_result"
    }
   ],
   "source": [
    "os.getcwd()"
   ]
  },
  {
   "cell_type": "markdown",
   "id": "cc97cb6a-8420-4428-90c8-74d47b6033af",
   "metadata": {},
   "source": [
    "**items-keys-values**"
   ]
  },
  {
   "cell_type": "code",
   "execution_count": 117,
   "id": "664a9342-7388-4f9a-8406-3afee15fa64a",
   "metadata": {},
   "outputs": [
    {
     "data": {
      "text/plain": [
       "{'Ram': 25, 'Raheem': 30, 'Robert': 35}"
      ]
     },
     "execution_count": 117,
     "metadata": {},
     "output_type": "execute_result"
    }
   ],
   "source": [
    "d1 = {'Ram':25,\n",
    "       'Raheem':30,\n",
    "        'Robert':35}\n",
    "d1"
   ]
  },
  {
   "cell_type": "code",
   "execution_count": 122,
   "id": "4f42f7a4-4550-4bfe-8e25-5069a9105f2f",
   "metadata": {},
   "outputs": [
    {
     "data": {
      "text/plain": [
       "builtin_function_or_method"
      ]
     },
     "execution_count": 122,
     "metadata": {},
     "output_type": "execute_result"
    }
   ],
   "source": [
    "d1.items()"
   ]
  },
  {
   "cell_type": "code",
   "execution_count": 123,
   "id": "32a868e2-e830-4dfb-942a-429be3fef9a9",
   "metadata": {},
   "outputs": [
    {
     "data": {
      "text/plain": [
       "dict"
      ]
     },
     "execution_count": 123,
     "metadata": {},
     "output_type": "execute_result"
    }
   ],
   "source": [
    "type(d1)"
   ]
  },
  {
   "cell_type": "code",
   "execution_count": 120,
   "id": "0fb4b5f9-13c3-470d-be9c-5c33de31f4d6",
   "metadata": {},
   "outputs": [
    {
     "data": {
      "text/plain": [
       "dict_keys(['Ram', 'Raheem', 'Robert'])"
      ]
     },
     "execution_count": 120,
     "metadata": {},
     "output_type": "execute_result"
    }
   ],
   "source": [
    "d1.keys()"
   ]
  },
  {
   "cell_type": "code",
   "execution_count": 124,
   "id": "7ff27e9d-5286-4762-baea-3fa53c632807",
   "metadata": {},
   "outputs": [
    {
     "data": {
      "text/plain": [
       "dict"
      ]
     },
     "execution_count": 124,
     "metadata": {},
     "output_type": "execute_result"
    }
   ],
   "source": [
    "type(d1)"
   ]
  },
  {
   "cell_type": "code",
   "execution_count": 121,
   "id": "b5617dfc-8a9e-483e-a13d-8ae475e53614",
   "metadata": {},
   "outputs": [
    {
     "data": {
      "text/plain": [
       "dict_values([25, 30, 35])"
      ]
     },
     "execution_count": 121,
     "metadata": {},
     "output_type": "execute_result"
    }
   ],
   "source": [
    "d1.values()"
   ]
  },
  {
   "cell_type": "code",
   "execution_count": 126,
   "id": "63183eaf-1e19-4726-94eb-cdee6ec4b937",
   "metadata": {},
   "outputs": [
    {
     "data": {
      "text/plain": [
       "[25, 30, 35, 400]"
      ]
     },
     "execution_count": 126,
     "metadata": {},
     "output_type": "execute_result"
    }
   ],
   "source": [
    "l1 = [25,30,35]\n",
    "l1.append(400)\n",
    "l1"
   ]
  },
  {
   "cell_type": "code",
   "execution_count": 132,
   "id": "6b7540bb-3d00-4747-98d2-8f96c4e71958",
   "metadata": {},
   "outputs": [
    {
     "data": {
      "text/plain": [
       "(['Ram', 'Raheem', 'Robert'], [25, 30, 35])"
      ]
     },
     "execution_count": 132,
     "metadata": {},
     "output_type": "execute_result"
    }
   ],
   "source": [
    "d1 = {'Ram':25,\n",
    "       'Raheem':30,\n",
    "        'Robert':35}\n",
    "keys = list(d1.keys())\n",
    "values = list(d1.values())\n",
    "keys,values"
   ]
  },
  {
   "cell_type": "code",
   "execution_count": 133,
   "id": "19f43089-2204-43db-99e5-1d61f6baef32",
   "metadata": {},
   "outputs": [
    {
     "data": {
      "text/plain": [
       "{'Ram': 25, 'Raheem': 30, 'Robert': 35}"
      ]
     },
     "execution_count": 133,
     "metadata": {},
     "output_type": "execute_result"
    }
   ],
   "source": [
    "{i:j for i,j in zip(keys,values)}"
   ]
  },
  {
   "cell_type": "code",
   "execution_count": 134,
   "id": "b28422f0-9140-45d4-ae3e-ecbcb00e5172",
   "metadata": {},
   "outputs": [
    {
     "data": {
      "text/plain": [
       "{'Ram': 25, 'Raheem': 30, 'Robert': 35}"
      ]
     },
     "execution_count": 134,
     "metadata": {},
     "output_type": "execute_result"
    }
   ],
   "source": [
    "d1 = {}\n",
    "for i in range(len(keys)):\n",
    "    d1[keys[i]] = values[i]\n",
    "d1"
   ]
  },
  {
   "cell_type": "code",
   "execution_count": 135,
   "id": "c6158626-7fe6-4459-b4f8-e245af3a4490",
   "metadata": {},
   "outputs": [
    {
     "data": {
      "text/plain": [
       "{'Ram': 25, 'Raheem': 30, 'Robert': 35}"
      ]
     },
     "execution_count": 135,
     "metadata": {},
     "output_type": "execute_result"
    }
   ],
   "source": [
    "dict(zip(keys,values))"
   ]
  },
  {
   "cell_type": "code",
   "execution_count": 136,
   "id": "985c8162-bc54-4b3d-9bb8-4fb65f22fecc",
   "metadata": {},
   "outputs": [
    {
     "data": {
      "text/plain": [
       "['virat.kohli.com', 'Rohit.sharma@mumbai.com', 'kl.rahul@lucknow.com']"
      ]
     },
     "execution_count": 136,
     "metadata": {},
     "output_type": "execute_result"
    }
   ],
   "source": [
    "s1 = 'virat.kohli.com,Rohit.sharma@mumbai.com,kl.rahul@lucknow.com'\n",
    "s1.split(',')"
   ]
  },
  {
   "cell_type": "code",
   "execution_count": 146,
   "id": "3cb6ead3-2e13-41be-9e22-814a8fcdcc09",
   "metadata": {},
   "outputs": [
    {
     "data": {
      "text/plain": [
       "(['virat', 'Rohit', 'kl'],\n",
       " ['kohli.co', 'sharma', 'rahul'],\n",
       " ['virat.kohli', 'mumbai', 'lucknow'])"
      ]
     },
     "execution_count": 146,
     "metadata": {},
     "output_type": "execute_result"
    }
   ],
   "source": [
    "str1 = 'virat.kohli@blr.com'\n",
    "f_name = [str1[:str1.find('.')] for str1 in s1.split(',')]\n",
    "s_name = [str1[str1.find('.')+1:str1.find('@')] for str1 in s1.split(',')]\n",
    "c_name = [str1[str1.find('@')+1:str1.find('.',str1.find('.')+1)] for str1 in s1.split(',')]\n",
    "f_name,s_name,c_name"
   ]
  },
  {
   "cell_type": "markdown",
   "id": "45f28ac2-5e21-49ea-941e-81e3d5a16c23",
   "metadata": {},
   "source": [
    "$clear$-$copy$"
   ]
  },
  {
   "cell_type": "code",
   "execution_count": 149,
   "id": "9a0a37a0-837d-4af2-94ab-35c5cb45686a",
   "metadata": {},
   "outputs": [
    {
     "name": "stdout",
     "output_type": "stream",
     "text": [
      "{}\n",
      "{'a': 20, 'b': 30, 'c': 40}\n"
     ]
    }
   ],
   "source": [
    "#take one dictionary\n",
    "#take second dictionary\n",
    "#copy first dict into second\n",
    "#clear first dict\n",
    "#and print both\n",
    "\n",
    "d1 = {'a':20,'b':30,'c':40}\n",
    "d2 = d1.copy()\n",
    "d1.clear()\n",
    "print(d1)\n",
    "print(d2)"
   ]
  },
  {
   "cell_type": "markdown",
   "id": "acca1e88-4070-47db-9101-0f5119a79a20",
   "metadata": {},
   "source": [
    "$pop$-$popitem$-$del$"
   ]
  },
  {
   "cell_type": "code",
   "execution_count": 178,
   "id": "53619a2d-ad8e-4829-9110-58c923dbb6e2",
   "metadata": {},
   "outputs": [
    {
     "name": "stdout",
     "output_type": "stream",
     "text": [
      "20\n",
      "{'b': 30, 'c': 40}\n",
      "('c', 40)\n",
      "{'b': 30}\n"
     ]
    }
   ],
   "source": [
    "d1 = {'a':20,'b':30,'c':40}\n",
    "d2 = d1.pop('a')\n",
    "print(d2)\n",
    "print(d1)\n",
    "d2 = d1.popitem()\n",
    "print(d2)\n",
    "print(d1)\n",
    "del(d2)"
   ]
  },
  {
   "cell_type": "code",
   "execution_count": 180,
   "id": "9e1455bb-3203-486a-a597-9e4554ff3f28",
   "metadata": {},
   "outputs": [
    {
     "data": {
      "text/plain": [
       "{1: 'odd', 2: 'odd', 3: 'odd'}"
      ]
     },
     "execution_count": 180,
     "metadata": {},
     "output_type": "execute_result"
    }
   ],
   "source": [
    "d3 = {}.fromkeys([1,2,3],'odd')\n",
    "d3"
   ]
  },
  {
   "cell_type": "code",
   "execution_count": 183,
   "id": "2d06e018-3d60-4648-b65e-dfe4afb00e10",
   "metadata": {},
   "outputs": [
    {
     "data": {
      "text/plain": [
       "{'mmmm': 'DS', 'city': None}"
      ]
     },
     "execution_count": 183,
     "metadata": {},
     "output_type": "execute_result"
    }
   ],
   "source": [
    "d2={}\n",
    "d2['mmmm']='DS'\n",
    "d2.setdefault('city')\n",
    "d2"
   ]
  },
  {
   "cell_type": "code",
   "execution_count": 187,
   "id": "489539d7-98fe-4ab2-99fe-a3ab1a354bbe",
   "metadata": {},
   "outputs": [
    {
     "data": {
      "text/plain": [
       "{1: 2, 2: 3}"
      ]
     },
     "execution_count": 187,
     "metadata": {},
     "output_type": "execute_result"
    }
   ],
   "source": [
    "t1 = [(1,2),(2,3)]\n",
    "d1 = {}\n",
    "d1.update(t1)\n",
    "d1"
   ]
  },
  {
   "cell_type": "code",
   "execution_count": null,
   "id": "8688f8b0-c03b-49ae-9010-784e7d8457f1",
   "metadata": {},
   "outputs": [],
   "source": []
  },
  {
   "cell_type": "code",
   "execution_count": null,
   "id": "fae4145d-bb8b-4706-afc6-1716ab665b76",
   "metadata": {},
   "outputs": [],
   "source": []
  },
  {
   "cell_type": "code",
   "execution_count": null,
   "id": "cd919162-b5d2-4431-ada8-b18672833a28",
   "metadata": {},
   "outputs": [],
   "source": []
  },
  {
   "cell_type": "code",
   "execution_count": null,
   "id": "89669547-c2ea-4d97-ad38-c443ef01564a",
   "metadata": {},
   "outputs": [],
   "source": []
  },
  {
   "cell_type": "code",
   "execution_count": null,
   "id": "c31fd90a-9d66-4d36-8a08-222d7b06c4cf",
   "metadata": {},
   "outputs": [],
   "source": []
  },
  {
   "cell_type": "code",
   "execution_count": null,
   "id": "0a376e8a-6174-405d-a058-69adef34a395",
   "metadata": {},
   "outputs": [],
   "source": []
  },
  {
   "cell_type": "code",
   "execution_count": null,
   "id": "6368c697-0b9a-4a43-a7c8-8e32a86d89a3",
   "metadata": {},
   "outputs": [],
   "source": []
  },
  {
   "cell_type": "code",
   "execution_count": null,
   "id": "5092c74e-72f1-49fb-aed0-b6932d4589e6",
   "metadata": {},
   "outputs": [],
   "source": []
  }
 ],
 "metadata": {
  "kernelspec": {
   "display_name": "Python 3 (ipykernel)",
   "language": "python",
   "name": "python3"
  },
  "language_info": {
   "codemirror_mode": {
    "name": "ipython",
    "version": 3
   },
   "file_extension": ".py",
   "mimetype": "text/x-python",
   "name": "python",
   "nbconvert_exporter": "python",
   "pygments_lexer": "ipython3",
   "version": "3.13.5"
  }
 },
 "nbformat": 4,
 "nbformat_minor": 5
}
