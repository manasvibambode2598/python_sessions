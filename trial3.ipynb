{
 "cells": [
  {
   "cell_type": "code",
   "execution_count": 1,
   "id": "d2f943ee-9f78-456b-a2d3-08caaa3e711a",
   "metadata": {},
   "outputs": [],
   "source": [
    "# Create basic function"
   ]
  },
  {
   "cell_type": "markdown",
   "id": "5d15d41f-f2cf-4f0b-8a20-824bfd99d859",
   "metadata": {},
   "source": [
    "**single aurguments**"
   ]
  },
  {
   "cell_type": "code",
   "execution_count": 2,
   "id": "8be00219-fee6-4e41-9867-95de986bda78",
   "metadata": {},
   "outputs": [
    {
     "data": {
      "text/plain": [
       "30"
      ]
     },
     "execution_count": 2,
     "metadata": {},
     "output_type": "execute_result"
    }
   ],
   "source": [
    "def add(x):\n",
    "    return(x+10)\n",
    "add(20)"
   ]
  },
  {
   "cell_type": "code",
   "execution_count": 3,
   "id": "02fb7de3-c215-4b26-92e6-fa7779fd22d4",
   "metadata": {},
   "outputs": [
    {
     "data": {
      "text/plain": [
       "30"
      ]
     },
     "execution_count": 3,
     "metadata": {},
     "output_type": "execute_result"
    }
   ],
   "source": [
    "def add(x):\n",
    "    return(x+10)\n",
    "add(20)\n",
    "\n",
    "#how many argument are present? ---x\n",
    "#what you are returning?  ---X+10\n"
   ]
  },
  {
   "cell_type": "code",
   "execution_count": 4,
   "id": "6a0ff54a-29b4-4fb3-bbb6-471794783ef2",
   "metadata": {},
   "outputs": [
    {
     "data": {
      "text/plain": [
       "30"
      ]
     },
     "execution_count": 4,
     "metadata": {},
     "output_type": "execute_result"
    }
   ],
   "source": [
    "# format:lambda <argument_name>:<output>\n",
    "\n",
    "add = lambda x:x+10\n",
    "add(20)"
   ]
  },
  {
   "cell_type": "code",
   "execution_count": 5,
   "id": "6a5162b7-0d95-4745-8566-bc361b4bcc6e",
   "metadata": {},
   "outputs": [
    {
     "data": {
      "text/plain": [
       "16"
      ]
     },
     "execution_count": 5,
     "metadata": {},
     "output_type": "execute_result"
    }
   ],
   "source": [
    "square = lambda x:x*x\n",
    "square(4)"
   ]
  },
  {
   "cell_type": "code",
   "execution_count": 6,
   "id": "5744ac8a-8bc2-41f6-b63c-6ed45759d8b5",
   "metadata": {},
   "outputs": [
    {
     "data": {
      "text/plain": [
       "343"
      ]
     },
     "execution_count": 6,
     "metadata": {},
     "output_type": "execute_result"
    }
   ],
   "source": [
    "cube = lambda x:x*x*x\n",
    "cube(7)"
   ]
  },
  {
   "cell_type": "markdown",
   "id": "c8ac7d2c-fade-490b-96d6-ce501baf078a",
   "metadata": {},
   "source": [
    "**two arguments**"
   ]
  },
  {
   "cell_type": "code",
   "execution_count": null,
   "id": "2c9b2313-1864-48fa-ae02-b2dd3c85a62d",
   "metadata": {},
   "outputs": [],
   "source": [
    "def add(a,b):\n",
    "    return(a,b)\n",
    "add(20,30)\n",
    "\n",
    "#how many argument are present? ---a,b\n",
    "#what you are returning?  ---a+b\n"
   ]
  },
  {
   "cell_type": "code",
   "execution_count": 7,
   "id": "ad54b6fa-d4a2-4b8f-aec2-b7b193e5b520",
   "metadata": {},
   "outputs": [
    {
     "data": {
      "text/plain": [
       "50"
      ]
     },
     "execution_count": 7,
     "metadata": {},
     "output_type": "execute_result"
    }
   ],
   "source": [
    "#format:lambda <arg1>,<arg2>:output\n",
    "\n",
    "add = lambda a,b:a+b\n",
    "add(20,30)"
   ]
  },
  {
   "cell_type": "code",
   "execution_count": 14,
   "id": "881cac1b-3cea-49db-b54c-c71cab035b4a",
   "metadata": {},
   "outputs": [
    {
     "data": {
      "text/plain": [
       "1.1666666666666667"
      ]
     },
     "execution_count": 14,
     "metadata": {},
     "output_type": "execute_result"
    }
   ],
   "source": [
    "# implement avg of 3 numbers using lambda\n",
    "\n",
    "avg = lambda a,b,c:(a/+b+c)/3\n",
    "avg(1,2,3)"
   ]
  },
  {
   "cell_type": "code",
   "execution_count": 19,
   "id": "5b8d3bcf-4742-4a94-bb44-e10627a142b7",
   "metadata": {},
   "outputs": [
    {
     "data": {
      "text/plain": [
       "116.67"
      ]
     },
     "execution_count": 19,
     "metadata": {},
     "output_type": "execute_result"
    }
   ],
   "source": [
    "# implement average make c as default parameterr\n",
    "\n",
    "avg = lambda a,b,c=300:round((a+b+c)/3,2)\n",
    "avg(20,30)"
   ]
  },
  {
   "cell_type": "markdown",
   "id": "b18a02f3-e375-4bd7-83a0-f4066189c7e5",
   "metadata": {},
   "source": [
    "**if-else**"
   ]
  },
  {
   "cell_type": "code",
   "execution_count": 20,
   "id": "f64b8fd5-e0b6-4eac-8248-35ec721c1287",
   "metadata": {},
   "outputs": [
    {
     "data": {
      "text/plain": [
       "314"
      ]
     },
     "execution_count": 20,
     "metadata": {},
     "output_type": "execute_result"
    }
   ],
   "source": [
    "#create a function for finding greater number \n",
    "\n",
    "def greater(n1,n2):\n",
    "    if n1>n2:\n",
    "        return(n1)\n",
    "    else:\n",
    "        return(n2)\n",
    "greater(121,314)"
   ]
  },
  {
   "cell_type": "code",
   "execution_count": 24,
   "id": "5b86347d-4285-48b2-917d-ace95819c96b",
   "metadata": {},
   "outputs": [],
   "source": [
    "l1 = []\n",
    "def greater(n1,n2):\n",
    "    if n1>n2:\n",
    "        l1.append(n1)\n",
    "    else:\n",
    "        l1.append(n2)\n",
    "greater(121,314)"
   ]
  },
  {
   "cell_type": "code",
   "execution_count": 23,
   "id": "6a19410c-c3b3-456c-b7f0-561eedba6151",
   "metadata": {},
   "outputs": [
    {
     "data": {
      "text/plain": [
       "4"
      ]
     },
     "execution_count": 23,
     "metadata": {},
     "output_type": "execute_result"
    }
   ],
   "source": [
    "#lambda <arg1>,<arg2>:<if_output> <if_condition> else <else_output>\n",
    "\n",
    "greater = lambda a,b:(a if a>b else b)\n",
    "greater(4,2)"
   ]
  },
  {
   "cell_type": "code",
   "execution_count": 5,
   "id": "27814ba8-da83-4e8d-bb94-d8c862cb95ed",
   "metadata": {},
   "outputs": [
    {
     "name": "stdout",
     "output_type": "stream",
     "text": [
      "['Hyd', 'Mumbai', 'Chennai']\n"
     ]
    },
    {
     "data": {
      "text/plain": [
       "['Hyd', 'Mumbai', 'Chennai']"
      ]
     },
     "execution_count": 5,
     "metadata": {},
     "output_type": "execute_result"
    }
   ],
   "source": [
    "list1 = ['hyd','mumbai','chennai']\n",
    "list2 = []\n",
    "for i in list1:\n",
    "    list2.append(i.capitalize())\n",
    "print(list2)\n",
    "\n",
    "\n",
    "[i.capitalize() for i in list1]"
   ]
  },
  {
   "cell_type": "code",
   "execution_count": 7,
   "id": "b19ef3c3-066e-4305-a36c-e27b4468de64",
   "metadata": {},
   "outputs": [
    {
     "data": {
      "text/plain": [
       "(<function __main__.<lambda>(i)>, ['hyd', 'mumbai', 'chennai'])"
      ]
     },
     "execution_count": 7,
     "metadata": {},
     "output_type": "execute_result"
    }
   ],
   "source": [
    "#lambda <arguments>: <output>,<iterator>\n",
    "\n",
    "lambda i:i.capitalize,list1"
   ]
  },
  {
   "cell_type": "markdown",
   "id": "ef2f84ae-17f4-457b-8a90-aaaa5b5679ae",
   "metadata": {},
   "source": [
    "- first make a lambda function\n",
    "- second add your iterator\n",
    "- map both function and iterator\n",
    "- save the result in a list"
   ]
  },
  {
   "cell_type": "code",
   "execution_count": 14,
   "id": "fb004f11-5d22-44de-baec-32240dfee517",
   "metadata": {},
   "outputs": [
    {
     "data": {
      "text/plain": [
       "['Hyd', 'Mumbai', 'Chennai']"
      ]
     },
     "execution_count": 14,
     "metadata": {},
     "output_type": "execute_result"
    }
   ],
   "source": [
    "list1 = ['hyd','mumbai','chennai']\n",
    "lambda i:i.capitalize,list1\n",
    "map(lambda i:i.capitalize(),list1)\n",
    "list(map(lambda i:i.capitalize(),list1))"
   ]
  },
  {
   "cell_type": "code",
   "execution_count": 20,
   "id": "4cc1f98f-97ef-44f9-9b28-47df1f222cb2",
   "metadata": {},
   "outputs": [
    {
     "data": {
      "text/plain": [
       "[1, 4, 9, 16, 25]"
      ]
     },
     "execution_count": 20,
     "metadata": {},
     "output_type": "execute_result"
    }
   ],
   "source": [
    "list1 = [1,2,3,4,5]\n",
    "lambda i : i*i,list1\n",
    "map(lambda i : i*i,list1)\n",
    "list(map(lambda i : i*i,list1))\n"
   ]
  },
  {
   "cell_type": "code",
   "execution_count": 21,
   "id": "60c385c7-16a5-4aea-a31c-07948f3774bc",
   "metadata": {},
   "outputs": [
    {
     "name": "stdout",
     "output_type": "stream",
     "text": [
      "1\n",
      "4\n",
      "9\n",
      "16\n",
      "25\n"
     ]
    }
   ],
   "source": [
    "list1 = [1,2,3,4,5]\n",
    "\n",
    "list(map(lambda i:i*i,list1))\n",
    "for i in map(lambda i:i*i,list1):\n",
    "    print(i)"
   ]
  },
  {
   "cell_type": "code",
   "execution_count": 23,
   "id": "d6220aa7-fb6c-4469-b680-8568c9535ebc",
   "metadata": {},
   "outputs": [
    {
     "data": {
      "text/plain": [
       "[12, 24, 36]"
      ]
     },
     "execution_count": 23,
     "metadata": {},
     "output_type": "execute_result"
    }
   ],
   "source": [
    "list1 = [1,2,3]\n",
    "list2 = [11,22,33]\n",
    "\n",
    "list(map(lambda i,j:i+j,list1,list2))"
   ]
  },
  {
   "cell_type": "code",
   "execution_count": 30,
   "id": "6ce2ff62-c44b-4c0a-a449-07fac989539d",
   "metadata": {},
   "outputs": [
    {
     "name": "stdout",
     "output_type": "stream",
     "text": [
      "['h#d', 'mum#bai']\n"
     ]
    },
    {
     "data": {
      "text/plain": [
       "['h#d', 'mum#bai']"
      ]
     },
     "execution_count": 30,
     "metadata": {},
     "output_type": "execute_result"
    }
   ],
   "source": [
    "list1 = ['h#d','mum#bai','chennai']\n",
    "list2 = []\n",
    "for i in list1:\n",
    "    if '#' in i:\n",
    "        list2.append(i)\n",
    "print(list2)\n",
    "\n",
    "[i for i in list1 if '#' in i]"
   ]
  },
  {
   "cell_type": "code",
   "execution_count": 31,
   "id": "69eaddc8-b4a8-4b0c-9e81-1f2d833aeb27",
   "metadata": {},
   "outputs": [
    {
     "data": {
      "text/plain": [
       "[True, True, False]"
      ]
     },
     "execution_count": 31,
     "metadata": {},
     "output_type": "execute_result"
    }
   ],
   "source": [
    "lambda i:'#' in i,list1\n",
    "map(lambda i : '#' in i,list1)\n",
    "list(map(lambda i : '#' in i,list1))"
   ]
  },
  {
   "cell_type": "code",
   "execution_count": 34,
   "id": "1562edaa-6ce3-4fcf-89f9-e845b8cb112d",
   "metadata": {},
   "outputs": [
    {
     "data": {
      "text/plain": [
       "['h#d', 'mum#bai']"
      ]
     },
     "execution_count": 34,
     "metadata": {},
     "output_type": "execute_result"
    }
   ],
   "source": [
    "lambda i:'#' in i,list1\n",
    "map(lambda i : '#' in i,list1)\n",
    "list(filter(lambda i : '#' in i,list1))"
   ]
  },
  {
   "cell_type": "code",
   "execution_count": 33,
   "id": "99f087cc-6ce8-4511-8c26-51da02a5c128",
   "metadata": {},
   "outputs": [
    {
     "data": {
      "text/plain": [
       "True"
      ]
     },
     "execution_count": 33,
     "metadata": {},
     "output_type": "execute_result"
    }
   ],
   "source": [
    "list1 = ['h#d','mum#bai','chennai']\n",
    "'#'in 'h#d'\n",
    "'#' in 'mum#bai'"
   ]
  },
  {
   "cell_type": "code",
   "execution_count": null,
   "id": "6ce27247-1225-4abe-a8e5-b7e087135f38",
   "metadata": {},
   "outputs": [],
   "source": []
  }
 ],
 "metadata": {
  "kernelspec": {
   "display_name": "Python 3 (ipykernel)",
   "language": "python",
   "name": "python3"
  },
  "language_info": {
   "codemirror_mode": {
    "name": "ipython",
    "version": 3
   },
   "file_extension": ".py",
   "mimetype": "text/x-python",
   "name": "python",
   "nbconvert_exporter": "python",
   "pygments_lexer": "ipython3",
   "version": "3.13.5"
  }
 },
 "nbformat": 4,
 "nbformat_minor": 5
}
