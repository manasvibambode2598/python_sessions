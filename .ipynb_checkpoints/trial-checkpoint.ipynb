{
 "cells": [
  {
   "cell_type": "code",
   "execution_count": null,
   "id": "576ee989-f506-432c-a1a8-c5b0f46566bb",
   "metadata": {},
   "outputs": [],
   "source": [
    "#im modifying code"
   ]
  },
  {
   "cell_type": "code",
   "execution_count": 2,
   "id": "ebdb9692-5f56-44c0-9ebf-1b91d7277329",
   "metadata": {},
   "outputs": [
    {
     "data": {
      "text/plain": [
       "2"
      ]
     },
     "execution_count": 2,
     "metadata": {},
     "output_type": "execute_result"
    }
   ],
   "source": [
    "a = 2\n",
    "a\n",
    "\n",
    "# shortcut:shift + eneter to run code\n",
    "#Note: esc - y"
   ]
  },
  {
   "cell_type": "markdown",
   "id": "ffe56848-13af-4947-9636-48a60deb9b5f",
   "metadata": {},
   "source": [
    "hello \n",
    "this manasvi here\n",
    "nice to meet you\n",
    "\n",
    "\n",
    "#Note:we can write anything in markdown.\n",
    "#markdown shortcut: esc + m\n"
   ]
  },
  {
   "cell_type": "markdown",
   "id": "fb94f391-3216-409f-9f63-353b2e90e52a",
   "metadata": {},
   "source": [
    "# python\n",
    "### python\n",
    "how to make bold\n",
    "---# space python will give bold"
   ]
  },
  {
   "cell_type": "markdown",
   "id": "0d4bce3a-adec-4891-b16d-13cd51fcbab8",
   "metadata": {},
   "source": [
    "how to get bolet point\n",
    "\n",
    "- python is easy\n",
    "\n",
    "          - hello\n",
    "  \n",
    "          - int\n",
    "  \n",
    "          - float\n",
    "- python is platform independent\n",
    "- lets read about pytho\n",
    "\n"
   ]
  },
  {
   "cell_type": "markdown",
   "id": "c96ae26a-5402-425f-96af-724e41029773",
   "metadata": {},
   "source": [
    "# end operator\n",
    "        this operator is used to join 2 statement nd print in one lline"
   ]
  },
  {
   "cell_type": "code",
   "execution_count": 4,
   "id": "9bd00154-a1f6-489d-b765-b7236b1fc614",
   "metadata": {},
   "outputs": [
    {
     "name": "stdout",
     "output_type": "stream",
     "text": [
      "hello\tgood morning\n"
     ]
    }
   ],
   "source": [
    "print (\"hello\" , end =\"\\t\")\n",
    "print (\"good morning\")"
   ]
  },
  {
   "cell_type": "code",
   "execution_count": 5,
   "id": "6c41a27e-283e-49bc-90db-0079c36b357a",
   "metadata": {},
   "outputs": [
    {
     "name": "stdout",
     "output_type": "stream",
     "text": [
      "My name is python I came from Hyd Age is 10\n"
     ]
    }
   ],
   "source": [
    "name = 'python'\n",
    "city = 'Hyd'\n",
    "age = 10\n",
    "print(\"My name is\",name,\"I came from\",city,\"Age is\",age)"
   ]
  },
  {
   "cell_type": "code",
   "execution_count": 6,
   "id": "27b1f834-c6fc-43a4-8025-fddc010b571f",
   "metadata": {},
   "outputs": [
    {
     "name": "stdout",
     "output_type": "stream",
     "text": [
      "the addition of 10 amd 20 is 30\n"
     ]
    }
   ],
   "source": [
    "num1 = 10\n",
    "num2 = 20\n",
    "add = num1 + num2\n",
    "print(\"the addition of {} amd {} is {}\".format(num1,num2,add))"
   ]
  },
  {
   "cell_type": "code",
   "execution_count": 7,
   "id": "7e94ff95-208d-4020-a364-0f53f02f023d",
   "metadata": {},
   "outputs": [
    {
     "name": "stdout",
     "output_type": "stream",
     "text": [
      "My name is python from Hyd and my age 10\n"
     ]
    }
   ],
   "source": [
    "name = 'python'\n",
    "city = 'Hyd'\n",
    "age = 10\n",
    "print(\"My name is {} from {} and my age {}\".format(name,city,age))"
   ]
  },
  {
   "cell_type": "code",
   "execution_count": 14,
   "id": "f23929b2-b21b-40ec-a4f5-5818061484c1",
   "metadata": {},
   "outputs": [
    {
     "name": "stdout",
     "output_type": "stream",
     "text": [
      "addition of 20 and 30 is 50\n",
      "subtraction of 20 and 30 is -10\n",
      "multiplication of 20 and 30 is 600\n",
      "division of 20 and 30 is 0.667\n"
     ]
    }
   ],
   "source": [
    "value1 = 20\n",
    "value2 = 30\n",
    "add = value1 + value2\n",
    "sub = value1 - value2\n",
    "mul = value1 * value2\n",
    "div = round(value1 / value2,3)\n",
    "print(\"addition of {} and {} is {}\".format(value1,value2,add))\n",
    "print(\"subtraction of {} and {} is {}\".format(value1,value2,sub))\n",
    "print(\"multiplication of {} and {} is {}\".format(value1,value2,mul))\n",
    "print(\"division of {} and {} is {}\".format(value1,value2,div))"
   ]
  },
  {
   "cell_type": "code",
   "execution_count": 15,
   "id": "c35a5235-a3c0-4d2a-81b4-352580c09abd",
   "metadata": {},
   "outputs": [
    {
     "name": "stdout",
     "output_type": "stream",
     "text": [
      "2.5\n",
      "2\n",
      "1\n"
     ]
    }
   ],
   "source": [
    "print(5/2)   #divison\n",
    "print(5//2)   #flooor division = quitotnet\n",
    "print(5%2)    #modulus  = reminder"
   ]
  },
  {
   "cell_type": "code",
   "execution_count": 17,
   "id": "cab9027f-a80d-4634-9d5b-3e42b448f699",
   "metadata": {},
   "outputs": [
    {
     "name": "stdin",
     "output_type": "stream",
     "text": [
      "what is A for: Apple\n",
      "what is B for: Bat\n"
     ]
    },
    {
     "name": "stdout",
     "output_type": "stream",
     "text": [
      "What is A for Apple and what is B for Bat\n"
     ]
    }
   ],
   "source": [
    "name1 = input (\"what is A for:\")\n",
    "name2 = input (\"what is B for:\")\n",
    "print (\"What is A for {} and what is B for {}\".format(name1,name2))"
   ]
  },
  {
   "cell_type": "code",
   "execution_count": 19,
   "id": "d5d398c6-f674-496f-831e-9fde94c87579",
   "metadata": {},
   "outputs": [
    {
     "name": "stdin",
     "output_type": "stream",
     "text": [
      "Enter the value: 10\n",
      "Enter the value: 20\n"
     ]
    },
    {
     "name": "stdout",
     "output_type": "stream",
     "text": [
      "addition of 10 and 20 is 30\n"
     ]
    }
   ],
   "source": [
    "val1 = int(input(\"Enter the value:\"))\n",
    "val2 = int(input(\"Enter the value:\"))\n",
    "add = val1 + val2\n",
    "print(\"addition of {} and {} is {}\".format(val1,val2,add))"
   ]
  },
  {
   "cell_type": "code",
   "execution_count": 29,
   "id": "18b61f62-4623-4b82-8c69-9d7b7319d6d1",
   "metadata": {},
   "outputs": [
    {
     "name": "stdout",
     "output_type": "stream",
     "text": [
      "50\n",
      "0.5\n"
     ]
    }
   ],
   "source": [
    "try: \n",
    "    num1 = 10\n",
    "    num2 = 20\n",
    "    num3 = 20\n",
    "    add = num1+num2+num3\n",
    "    div = num1/num2\n",
    "    print(add)\n",
    "    print(div)\n",
    "except:\n",
    "    print(\"error is there,check code\")"
   ]
  },
  {
   "cell_type": "code",
   "execution_count": 28,
   "id": "15091ba8-442e-4422-a98e-63741ed72d25",
   "metadata": {},
   "outputs": [
    {
     "name": "stdout",
     "output_type": "stream",
     "text": [
      "error is there,check code\n"
     ]
    }
   ],
   "source": [
    "try: \n",
    "    num1 = 10\n",
    "    num2 = 0\n",
    "    num3 = 20\n",
    "    div = num1/num2\n",
    "    print(div)\n",
    "except:\n",
    "    print(\"error is there,check code\")"
   ]
  },
  {
   "cell_type": "code",
   "execution_count": 31,
   "id": "fce6169c-402a-4c62-b1f6-170608518107",
   "metadata": {},
   "outputs": [
    {
     "name": "stdin",
     "output_type": "stream",
     "text": [
      "Enter num1 20\n",
      "Enter num2 30\n",
      "Enter num3 65\n"
     ]
    },
    {
     "name": "stdout",
     "output_type": "stream",
     "text": [
      "Average of 20 ,30 and 65 is 38.333333333333336\n"
     ]
    }
   ],
   "source": [
    "num1 = eval(input(\"Enter num1\"))\n",
    "num2 = eval(input(\"Enter num2\"))\n",
    "num3 = eval(input(\"Enter num3\"))\n",
    "avg = (num1+num2+num3)/3\n",
    "print(\"Average of {} ,{} and {} is {}\".format(num1,num2,num3,avg))"
   ]
  },
  {
   "cell_type": "code",
   "execution_count": 35,
   "id": "25019ca2-7cca-4dd1-9e64-aa77c1dcc6f6",
   "metadata": {},
   "outputs": [
    {
     "name": "stdin",
     "output_type": "stream",
     "text": [
      "Enter num1 20\n",
      "Enter num2 54\n",
      "Enter num3 78\n"
     ]
    },
    {
     "name": "stdout",
     "output_type": "stream",
     "text": [
      "Average of 20 ,54 and 78 is 50.666666666666664\n"
     ]
    }
   ],
   "source": [
    "try:\n",
    "    num1 = eval(input(\"Enter num1\"))\n",
    "    num2 = eval(input(\"Enter num2\"))\n",
    "    num3 = eval(input(\"Enter num3\"))\n",
    "    avg = (num1+num2+num3)/3\n",
    "    print(\"Average of {} ,{} and {} is {}\".format(num1,num2,num3,avg))\n",
    "    \n",
    "except:\n",
    "        print(\"check the code\")\n"
   ]
  },
  {
   "cell_type": "code",
   "execution_count": 39,
   "id": "ee5900f3-6fbb-4b44-89f8-21bc469b7ce2",
   "metadata": {},
   "outputs": [
    {
     "name": "stdout",
     "output_type": "stream",
     "text": [
      "hello\n",
      "10\n"
     ]
    },
    {
     "name": "stdin",
     "output_type": "stream",
     "text": [
      "enter a number1: 10\n",
      "enter a number2: 10\n"
     ]
    },
    {
     "name": "stdout",
     "output_type": "stream",
     "text": [
      "This is True case\n",
      "We are doing addition operation\n",
      "The addition of 10 and 10 is:20\n",
      "Happy Ending\n",
      "subtraction: 0\n",
      "Gr8\n"
     ]
    }
   ],
   "source": [
    "print('hello')\n",
    "print(10)\n",
    "num1 = eval(input(\"enter a number1:\"))\n",
    "num2 = eval(input(\"enter a number2:\"))\n",
    "if num1 == num2:\n",
    "    print(\"This is True case\")\n",
    "    print(\"We are doing addition operation\")\n",
    "    print(\"The addition of {} and {} is:{}\".format(num1,num2,num1+num2))\n",
    "    print(\"Happy Ending\")\n",
    "\n",
    "else:\n",
    "    print(\"This is False case\")\n",
    "    print (\"We are doing multiplication\")\n",
    "    print(\"The multipication of {} and {} is: {}\".format (num1,num2,num1*num2))\n",
    "subtraction = num1-num2\n",
    "print(\"subtraction:\",subtraction)\n",
    "print(\"Gr8\")"
   ]
  },
  {
   "cell_type": "code",
   "execution_count": 46,
   "id": "3980de23-70bd-4441-aa53-379881ccdc69",
   "metadata": {},
   "outputs": [
    {
     "name": "stdin",
     "output_type": "stream",
     "text": [
      "Enter a number 55\n"
     ]
    },
    {
     "name": "stdout",
     "output_type": "stream",
     "text": [
      "The 55 odd\n"
     ]
    }
   ],
   "source": [
    "num1 = eval(input(\"Enter a number\"))\n",
    "if(num1%2==0):\n",
    "    print(\"The {} even\".format(num1))\n",
    "else:\n",
    "    print(\"The {} odd\".format(num1))\n"
   ]
  },
  {
   "cell_type": "code",
   "execution_count": 47,
   "id": "78340bc8-235b-4242-a94a-57da810bf72f",
   "metadata": {},
   "outputs": [
    {
     "name": "stdin",
     "output_type": "stream",
     "text": [
      "Enter a number 30\n"
     ]
    },
    {
     "name": "stdout",
     "output_type": "stream",
     "text": [
      "The 30 odd\n"
     ]
    }
   ],
   "source": [
    "num1 = eval(input(\"Enter a number\"))\n",
    "if(num1%2!=0):\n",
    "    print(\"The {} even\".format(num1))\n",
    "else:\n",
    "    print(\"The {} odd\".format(num1))\n"
   ]
  },
  {
   "cell_type": "code",
   "execution_count": 54,
   "id": "16360918-6ea5-482c-a909-bf8133e536d5",
   "metadata": {},
   "outputs": [
    {
     "name": "stdout",
     "output_type": "stream",
     "text": [
      "The 44 even\n"
     ]
    }
   ],
   "source": [
    "import random\n",
    "num1 = random.randint(1,50)\n",
    "if(num1%2==0):\n",
    "    print(\"The {} even\".format(num1))\n",
    "else:\n",
    "    print(\"The {} odd\".format(num1))\n"
   ]
  },
  {
   "cell_type": "code",
   "execution_count": 68,
   "id": "70d97920-b7fa-4cd8-bcf7-c57fc68b5a90",
   "metadata": {},
   "outputs": [
    {
     "name": "stdout",
     "output_type": "stream",
     "text": [
      "We lost bocz183 is between 10 and 99\n"
     ]
    }
   ],
   "source": [
    "import random\n",
    "num1 = random.randint(1,200)\n",
    "if(num1<=10 and num1>=99):\n",
    "    print(\"We won bcoz {} is between 10 and 99\".format(num1))\n",
    "else:\n",
    "    print(\"We lost bocz{} is between 10 and 99\".format(num1))"
   ]
  },
  {
   "cell_type": "code",
   "execution_count": 74,
   "id": "30a27380-89b3-4741-822c-12d256d964a1",
   "metadata": {},
   "outputs": [
    {
     "name": "stdin",
     "output_type": "stream",
     "text": [
      "Enter the marks 60\n"
     ]
    },
    {
     "name": "stdout",
     "output_type": "stream",
     "text": [
      "user is 60having grade between 50 to 70 then C\n"
     ]
    }
   ],
   "source": [
    "per = eval(input(\"Enter the marks\"))\n",
    "if (per>90):\n",
    "    print(\"user is {} having grade A\".format(per))\n",
    "elif 70<=per<=90:\n",
    "    print(\"user is {} having grade between 90 to 70 then B \".format(per))\n",
    "elif 50<=per<=70:\n",
    "    print(\"user is {}having grade between 50 to 70 then C\".format(per))\n",
    "else:\n",
    "    print(\"user is {} having grade D\".format(per))\n",
    "    "
   ]
  },
  {
   "cell_type": "code",
   "execution_count": 1,
   "id": "176717e5-9d44-4cfd-b352-cb321bf22024",
   "metadata": {},
   "outputs": [
    {
     "name": "stdin",
     "output_type": "stream",
     "text": [
      "enter salary: 500000\n",
      "enter tax percentage 23\n"
     ]
    },
    {
     "name": "stdout",
     "output_type": "stream",
     "text": [
      "amount of tax paid: 115000.0\n"
     ]
    }
   ],
   "source": [
    "salary = eval(input(\"enter salary:\"))\n",
    "if salary>=1000000:\n",
    "    tax_per = eval(input(\"enter tax percentage\"))\n",
    "    print(\"amount of tax paide:\",(salary*tax_per)/100)\n",
    "elif salary>=700000:\n",
    "    tax_per = eval(input(\"enter tax percentage\"))\n",
    "    print(\"amount of tax paid:\",(salary*tax_per)/100)\n",
    "elif salary>=400000:\n",
    "    tax_per = eval(input(\"enter tax percentage\"))\n",
    "    print(\"amount of tax paid:\",(salary*tax_per)/100)\n",
    "else:\n",
    "    print(\"No tax is required\")"
   ]
  },
  {
   "cell_type": "code",
   "execution_count": 7,
   "id": "a6e99677-986e-4fc9-bb65-b8cab95d4c6d",
   "metadata": {},
   "outputs": [
    {
     "name": "stdin",
     "output_type": "stream",
     "text": [
      "Enter operation 10\n",
      "Enter num1: 10\n",
      "Enter num2: 10\n"
     ]
    },
    {
     "name": "stdout",
     "output_type": "stream",
     "text": [
      "Out of Loop\n"
     ]
    }
   ],
   "source": [
    "try:\n",
    "    operation = input(\"Enter operation\")\n",
    "    num1 = eval(input(\"Enter num1:\"))\n",
    "    num2 = eval(input(\"Enter num2:\"))\n",
    "    if operation == 'addition':\n",
    "        print(\"Addititon Operation\")\n",
    "        print(\"Addition of {} and {} is {}\".format(num1,num2,num1+num2))\n",
    "    elif operation == 'subtraction':\n",
    "        print(\"Subtraction Operation\")\n",
    "        print(\"Subtractiontion of {} and {} is {}\".format(num1,num2,num1-num2))\n",
    "    elif operation == 'multiplication':\n",
    "        print(\"Multiplication Operation\")\n",
    "        print(\"Multiplication of {} and {} is {}\".format(num1,num2,num1*num2))\n",
    "    elif operation == 'division':\n",
    "        print(\"Division Operation\")\n",
    "        print(\"Division of {} and {} is {}\".format(num1,num2,num1/num2))\n",
    "    else:\n",
    "        print(\"Out of Loop\")\n",
    "except Exception as e:\n",
    "    print(e)"
   ]
  },
  {
   "cell_type": "code",
   "execution_count": 9,
   "id": "c8ec4ebc-81bd-4449-88c2-65d3cec05ede",
   "metadata": {},
   "outputs": [
    {
     "name": "stdin",
     "output_type": "stream",
     "text": [
      "Enter operation 5\n",
      "Enter num1: 5\n",
      "Enter num2: 5\n"
     ]
    },
    {
     "name": "stdout",
     "output_type": "stream",
     "text": [
      "Out of Loop\n"
     ]
    }
   ],
   "source": [
    "try:\n",
    "    operation = input(\"Enter operation\")\n",
    "    num1 = eval(input(\"Enter num1:\"))\n",
    "    num2 = eval(input(\"Enter num2:\"))\n",
    "    if operation == '1':\n",
    "        print(\"Addititon Operation\")\n",
    "        print(\"Addition of {} and {} is {}\".format(num1,num2,num1+num2))\n",
    "    elif operation == '2':\n",
    "        print(\"Subtraction Operation\")\n",
    "        print(\"Subtractiontion of {} and {} is {}\".format(num1,num2,num1-num2))\n",
    "    elif operation == '3':\n",
    "        print(\"Multiplication Operation\")\n",
    "        print(\"Multiplication of {} and {} is {}\".format(num1,num2,num1*num2))\n",
    "    elif operation == '4':\n",
    "        print(\"Division Operation\")\n",
    "        print(\"Division of {} and {} is {}\".format(num1,num2,num1/num2))\n",
    "    else:\n",
    "        print(\"Out of Loop\")\n",
    "except Exception as e:\n",
    "    print(e)"
   ]
  },
  {
   "cell_type": "code",
   "execution_count": 13,
   "id": "3513b3f5-9a01-4c85-b42b-26f7f382540b",
   "metadata": {},
   "outputs": [
    {
     "name": "stdin",
     "output_type": "stream",
     "text": [
      "Enter a number 0\n"
     ]
    },
    {
     "name": "stdout",
     "output_type": "stream",
     "text": [
      "it is a zero number\n"
     ]
    }
   ],
   "source": [
    "number = eval(input(\"Enter a number\"))\n",
    "if number>=0:\n",
    "    if number==0:\n",
    "        print(\"it is a zero number\")\n",
    "    else:\n",
    "        print(\"it is positive number\")\n",
    "else:\n",
    "    print(\"it is a negative number\")"
   ]
  },
  {
   "cell_type": "code",
   "execution_count": 25,
   "id": "88079fbf-b89e-49ab-9857-930d78d1424f",
   "metadata": {},
   "outputs": [
    {
     "name": "stdin",
     "output_type": "stream",
     "text": [
      "Gender is Male or Female male\n",
      "Enter Age: 35\n"
     ]
    },
    {
     "name": "stdout",
     "output_type": "stream",
     "text": [
      "Middle Age\n"
     ]
    }
   ],
   "source": [
    "gender = input(\"Gender is Male or Female\")\n",
    "if gender==\"male\":\n",
    "    age = eval(input(\"Enter Age:\"))\n",
    "    if age>60:\n",
    "            print(\"Senior citizen\")\n",
    "    elif age>=30:\n",
    "            print(\"Middle Age\")\n",
    "    elif age>=20:\n",
    "            print(\"Young Boy\")\n",
    "    elif age>=13:\n",
    "            print(\"Teenage\")\n",
    "    else:\n",
    "        print(\"Boy\")\n",
    "else:\n",
    "    age = eval(input(\"User to Enter Age:\"))\n",
    "    if age>=60:\n",
    "               print(\"Senior citizen\")\n",
    "    elif age>=30:\n",
    "               print(\"Middle Age\")\n",
    "    elif age>=20:\n",
    "               print(\"Young Girl\")\n",
    "    elif age>=13:\n",
    "               print(\"Teenage\")\n",
    "    else:\n",
    "        print(\"Girl\")\n",
    "    "
   ]
  },
  {
   "cell_type": "markdown",
   "id": "f602d269-f84c-4b40-8b1f-92ebc7cdb835",
   "metadata": {},
   "source": [
    "# Functions\n",
    "** without arguments\n"
   ]
  },
  {
   "cell_type": "markdown",
   "id": "66e62f05-165c-4767-ba44-7e070989c4f4",
   "metadata": {},
   "source": [
    "### def <function_name>():\n",
    "    -write code ......"
   ]
  },
  {
   "cell_type": "code",
   "execution_count": 7,
   "id": "17d7d083-ec33-4925-9f08-b7d6ef17e3ab",
   "metadata": {},
   "outputs": [],
   "source": [
    "def addition():\n",
    "    n1 = 10\n",
    "    n2 = 30\n",
    "    add = n1+n2\n",
    "    print(\"n1 is {} and n2 is {} and addition is {}\".format(n1,n2,add))"
   ]
  },
  {
   "cell_type": "code",
   "execution_count": 8,
   "id": "676eb754-709b-429e-8794-90d47cd08352",
   "metadata": {},
   "outputs": [
    {
     "name": "stdout",
     "output_type": "stream",
     "text": [
      "n1 is 10 and n2 is 30 and addition is 40\n"
     ]
    }
   ],
   "source": [
    "addition()"
   ]
  },
  {
   "cell_type": "code",
   "execution_count": 9,
   "id": "aea9768a-9d04-4560-b4f9-3739b3f55e35",
   "metadata": {},
   "outputs": [
    {
     "name": "stdout",
     "output_type": "stream",
     "text": [
      "helloooooo\n"
     ]
    }
   ],
   "source": [
    "def hello_world():\n",
    "    print('helloooooo')\n",
    "hello_world()"
   ]
  },
  {
   "cell_type": "code",
   "execution_count": 11,
   "id": "990ea314-8098-4ba8-a06f-0034553b6235",
   "metadata": {},
   "outputs": [
    {
     "name": "stdin",
     "output_type": "stream",
     "text": [
      "enter number1: 1\n",
      "enter number2: 1\n",
      "enter number3: 1\n"
     ]
    },
    {
     "name": "stdout",
     "output_type": "stream",
     "text": [
      "the average of1,1 and 1 is 1.0\n"
     ]
    }
   ],
   "source": [
    "def avg():\n",
    "    num1 = eval(input(\"enter number1:\"))\n",
    "    num2 = eval(input(\"enter number2:\"))\n",
    "    num3 = eval(input(\"enter number3:\"))\n",
    "    avg = (num1+num2+num3)/3\n",
    "    print(\"the average of{},{} and {} is {}\".format(num1,num2,num3,avg))\n",
    "avg()\n",
    "    "
   ]
  },
  {
   "cell_type": "code",
   "execution_count": 19,
   "id": "81acbac1-f2f0-4a24-a439-ee52aca32f2b",
   "metadata": {},
   "outputs": [
    {
     "name": "stdin",
     "output_type": "stream",
     "text": [
      "Enter the bill amount 233333\n",
      "Enter the tip amount 55555\n"
     ]
    },
    {
     "name": "stdout",
     "output_type": "stream",
     "text": [
      " total bill 288888\n"
     ]
    }
   ],
   "source": [
    "def bill():\n",
    "    bill_amt = eval(input(\"Enter the bill amount\"))\n",
    "    tip_amt = eval(input(\"Enter the tip amount\"))\n",
    "    total_bill = bill_amt + tip_amt\n",
    "    print(\" total bill {}\".format(total_bill))\n",
    "bill()"
   ]
  },
  {
   "cell_type": "code",
   "execution_count": 27,
   "id": "73981dce-5797-453b-afbf-3841ac279df4",
   "metadata": {},
   "outputs": [
    {
     "name": "stdin",
     "output_type": "stream",
     "text": [
      "Enter a number 6\n"
     ]
    },
    {
     "name": "stdout",
     "output_type": "stream",
     "text": [
      "Number is even\n"
     ]
    }
   ],
   "source": [
    "def fun():\n",
    "    number = eval(input(\"Enter a number\"))\n",
    "    if number % 2 ==0:\n",
    "        print (\"Number is even\")\n",
    "    else:\n",
    "        print(\"Number is odd\")\n",
    "fun()"
   ]
  },
  {
   "cell_type": "code",
   "execution_count": 31,
   "id": "16f399cd-5a67-40aa-90aa-8f3699e2ebbf",
   "metadata": {},
   "outputs": [
    {
     "name": "stdout",
     "output_type": "stream",
     "text": [
      "23 is odd\n"
     ]
    }
   ],
   "source": [
    "import random\n",
    "def even_odd():\n",
    "    num = random.randint(1,100)\n",
    "    if num%2 == 0:\n",
    "        print(\"{} is even number\".format(num))\n",
    "    else:\n",
    "        print(\"{} is odd\".format(num))\n",
    "even_odd()\n"
   ]
  },
  {
   "cell_type": "code",
   "execution_count": 32,
   "id": "37d3f990-6bf9-4bd3-9605-0a3c9fa2e2f7",
   "metadata": {},
   "outputs": [
    {
     "name": "stdout",
     "output_type": "stream",
     "text": [
      "hellooo\n",
      "python\n",
      "calling function\n",
      "25 is odd\n",
      "doneeee\n"
     ]
    }
   ],
   "source": [
    "import random\n",
    "print('hellooo')\n",
    "print('python')\n",
    "def even_odd():\n",
    "    num = random.randint(1,100)\n",
    "    if num%2 == 0:\n",
    "        print(\"{} is even number\".format(num))\n",
    "    else:\n",
    "        print(\"{} is odd\".format(num))\n",
    "print('calling function')\n",
    "even_odd()\n",
    "print('doneeee')\n"
   ]
  },
  {
   "cell_type": "code",
   "execution_count": 33,
   "id": "a531e6fd-7af5-4ce2-b30e-32eff9361ba6",
   "metadata": {},
   "outputs": [
    {
     "name": "stdout",
     "output_type": "stream",
     "text": [
      "subtraction starts\n",
      "multiplication starts\n",
      "division starts\n",
      "anything remains\n",
      "no\n",
      "then call the function\n",
      "subtraction -10\n",
      "multiplicztion 600\n",
      "addition 50\n",
      "division 0.6666666666666666\n"
     ]
    }
   ],
   "source": [
    "def addition():\n",
    "    num1 =20\n",
    "    num2 = 30\n",
    "    print(\"addition\",num1+num2)\n",
    "\n",
    "print(\"subtraction starts\")    \n",
    "def subtraction():\n",
    "    num1 =20\n",
    "    num2 = 30\n",
    "    print(\"subtraction\",num1-num2)\n",
    "\n",
    "print(\"multiplication starts\")    \n",
    "def mul():\n",
    "    num1 =20\n",
    "    num2 = 30\n",
    "    print(\"multiplicztion\",num1*num2)\n",
    "\n",
    "print(\"division starts\")\n",
    "def div():\n",
    "    num1 =20\n",
    "    num2 = 30\n",
    "    print(\"division\",num1/num2)\n",
    "print(\"anything remains\")\n",
    "print(\"no\")\n",
    "print(\"then call the function\")\n",
    "\n",
    "subtraction()\n",
    "mul()\n",
    "addition()\n",
    "div()"
   ]
  },
  {
   "cell_type": "markdown",
   "id": "2ea74fbd-ffac-4731-bd8b-b37e6638d3f7",
   "metadata": {},
   "source": [
    " ** with  arguments **\n",
    " "
   ]
  },
  {
   "cell_type": "code",
   "execution_count": 45,
   "id": "f3c8e05c-8cc2-4de8-a3f5-f644745acdec",
   "metadata": {},
   "outputs": [
    {
     "name": "stdin",
     "output_type": "stream",
     "text": [
      "Enter a number 20\n"
     ]
    },
    {
     "name": "stdout",
     "output_type": "stream",
     "text": [
      "lost\n"
     ]
    }
   ],
   "source": [
    "import random\n",
    "number = random.randint(1,20)\n",
    "def num():\n",
    "    numb1 = eval(input(\"Enter a number\"))\n",
    "    if number == numb1:\n",
    "        print(\"Won\")\n",
    "    else:\n",
    "        print(\"lost\")\n",
    "num()"
   ]
  },
  {
   "cell_type": "code",
   "execution_count": 50,
   "id": "6c1f8e10-58c7-4526-8448-f109a75d0e1c",
   "metadata": {},
   "outputs": [
    {
     "name": "stdin",
     "output_type": "stream",
     "text": [
      "enter number 7\n"
     ]
    },
    {
     "name": "stdout",
     "output_type": "stream",
     "text": [
      "lost 1\n"
     ]
    }
   ],
   "source": [
    "import random\n",
    "def compare(random_num,num):\n",
    "    if random_num == num:\n",
    "        print(\"Wpn\")\n",
    "    else:\n",
    "        print(\"lost\",random_num)\n",
    "compare(random.randint(1,20),eval(input(\"enter number\")))\n"
   ]
  },
  {
   "cell_type": "code",
   "execution_count": 52,
   "id": "ddbeb7b4-684b-4a62-88c3-b7dedde9c72d",
   "metadata": {},
   "outputs": [
    {
     "name": "stdout",
     "output_type": "stream",
     "text": [
      "total tax is: 500000.0\n"
     ]
    }
   ],
   "source": [
    "def tax_cal(salary,tax_per):\n",
    "    total_tax = salary*tax_per/100\n",
    "    print(\"total tax is:\",total_tax)\n",
    "tax_cal(2000000,25)          #Direct pass"
   ]
  },
  {
   "cell_type": "code",
   "execution_count": 57,
   "id": "25ff0026-e105-4355-84a9-dde6ec2be5b1",
   "metadata": {},
   "outputs": [
    {
     "name": "stdin",
     "output_type": "stream",
     "text": [
      "enter salary: 234567889\n",
      "enter tax per: 6\n"
     ]
    },
    {
     "name": "stdout",
     "output_type": "stream",
     "text": [
      "total tax is: 14074073.34\n"
     ]
    }
   ],
   "source": [
    "def tax_cal(salary,tax_per):\n",
    "    total_tax = salary*tax_per/100\n",
    "    print(\"total tax is:\",total_tax)\n",
    "\n",
    "salary = eval(input(\"enter salary:\".format(salary)))\n",
    "tax_per = eval(input(\"enter tax per:\".format(tax_per)))\n",
    "tax_cal(salary,tax_per)       #keybpard pass"
   ]
  },
  {
   "cell_type": "markdown",
   "id": "38ddae96-0906-4df4-afb9-27759874ee4a",
   "metadata": {},
   "source": [
    "## Default Arguments"
   ]
  },
  {
   "cell_type": "code",
   "execution_count": 58,
   "id": "7e9e7cfd-8058-4b36-af5a-d05fb0da5a82",
   "metadata": {},
   "outputs": [
    {
     "name": "stdout",
     "output_type": "stream",
     "text": [
      "total tax 20000.0\n"
     ]
    }
   ],
   "source": [
    "def tax_cal(salary,tax_per=20):\n",
    "    total_tax=salary*tax_per/100\n",
    "    print(\"total tax\",total_tax)\n",
    "tax_cal(100000)"
   ]
  },
  {
   "cell_type": "code",
   "execution_count": 59,
   "id": "8ead9eec-ad92-4fcf-a12f-b772c16d5cc2",
   "metadata": {},
   "outputs": [
    {
     "name": "stdout",
     "output_type": "stream",
     "text": [
      "n1 20\n",
      "n2 30\n",
      "n3 50\n",
      "avg is: 33.333333333333336\n"
     ]
    }
   ],
   "source": [
    "def avg(n1,n2,n3=50):\n",
    "    print(\"n1\",n1)      #20\n",
    "    print(\"n2\",n2)      #30\n",
    "    print(\"n3\",n3)      #50\n",
    "\n",
    "    add = (n1+n2+n3)\n",
    "    avg = add/3\n",
    "    print(\"avg is:\",avg)\n",
    "avg(20,30)"
   ]
  },
  {
   "cell_type": "code",
   "execution_count": 3,
   "id": "8c6d274b-d7a2-4ebc-8b0d-bc080573ae21",
   "metadata": {},
   "outputs": [
    {
     "name": "stdout",
     "output_type": "stream",
     "text": [
      "the addition of 200 and 300 is 500\n",
      "20\n",
      "40\n"
     ]
    }
   ],
   "source": [
    "n1 = 20\n",
    "n2 = 40\n",
    "def addition():\n",
    "    n1 = 200\n",
    "    n2 = 300\n",
    "    add = n1+n2\n",
    "    print(\"the addition of {} and {} is {}\".format(n1,n2,add))\n",
    "addition()\n",
    "print(n1)\n",
    "print(n2)"
   ]
  },
  {
   "cell_type": "code",
   "execution_count": 6,
   "id": "c70ad735-42a8-47cd-9945-5275122e2af0",
   "metadata": {},
   "outputs": [
    {
     "name": "stdout",
     "output_type": "stream",
     "text": [
      "the addition of 500 and 300 is 800\n",
      "20\n",
      "30\n"
     ]
    }
   ],
   "source": [
    "n1 = 20\n",
    "n2 = 30\n",
    "def addition(n1):\n",
    "    n2 = 300\n",
    "    add = n1+n2\n",
    "    print(\"the addition of {} and {} is {}\".format(n1,n2,add))\n",
    "addition(500)\n",
    "print(n1)\n",
    "print(n2)"
   ]
  },
  {
   "cell_type": "code",
   "execution_count": 8,
   "id": "7af3fe23-cce4-42a6-83d1-17b2db0c205b",
   "metadata": {},
   "outputs": [
    {
     "name": "stdout",
     "output_type": "stream",
     "text": [
      "addition of 500 and 300 is 800\n",
      "300\n",
      "800\n"
     ]
    }
   ],
   "source": [
    "n1 = 20\n",
    "n2 = 30\n",
    "def addition(n1):\n",
    "    global n2,add\n",
    "    n2 = 300\n",
    "    add = n1+n2\n",
    "    print(\"addition of {} and {} is {}\".format(n1,n2,add))\n",
    "addition(500)\n",
    "print(n2)\n",
    "print(add)"
   ]
  },
  {
   "cell_type": "markdown",
   "id": "c5adc615-a89b-4642-a178-1d474951c2e3",
   "metadata": {},
   "source": [
    "**Function in Function**"
   ]
  },
  {
   "cell_type": "code",
   "execution_count": 10,
   "id": "92fb0c5b-00b4-4f23-a3b3-303235ca38a5",
   "metadata": {},
   "outputs": [
    {
     "name": "stdout",
     "output_type": "stream",
     "text": [
      "hello\n",
      "python\n"
     ]
    }
   ],
   "source": [
    "def greet():\n",
    "    print(\"hello\")\n",
    "def name():\n",
    "    print(\"python\")\n",
    "greet()\n",
    "name()"
   ]
  },
  {
   "cell_type": "code",
   "execution_count": 14,
   "id": "7f7ced95-5c41-4a4d-b3ae-6367f1b59968",
   "metadata": {},
   "outputs": [
    {
     "name": "stdout",
     "output_type": "stream",
     "text": [
      "python\n",
      "hello\n"
     ]
    }
   ],
   "source": [
    "def greet():\n",
    "    print(\"hello\")\n",
    "def name():\n",
    "    print(\"python\")\n",
    "    greet()\n",
    "name()\n",
    "\n",
    "#step1 ---- define greet()\n",
    "#step2 ---- define name()\n",
    "#step3 ---- callling name()\n",
    "#step4 ---- python\n",
    "#step5 ---- calling greet()\n",
    "#step6 ---- hello"
   ]
  },
  {
   "cell_type": "code",
   "execution_count": 15,
   "id": "4078331e-4646-4f2b-8e60-5c210ae86c3d",
   "metadata": {},
   "outputs": [
    {
     "name": "stdout",
     "output_type": "stream",
     "text": [
      "hello\n",
      "pyhon\n",
      "hello\n"
     ]
    }
   ],
   "source": [
    "def greet():\n",
    "    print(\"hello\")\n",
    "    name\n",
    "def name():\n",
    "    print(\"pyhon\")\n",
    "    greet()\n",
    "greet()\n",
    "name()"
   ]
  },
  {
   "cell_type": "code",
   "execution_count": 19,
   "id": "edcb2987-27b0-414f-b12f-4b603fc75976",
   "metadata": {},
   "outputs": [
    {
     "name": "stdin",
     "output_type": "stream",
     "text": [
      "enter number: 3\n",
      "enter number1: 23\n",
      "enter nnumber2: 23\n"
     ]
    },
    {
     "name": "stdout",
     "output_type": "stream",
     "text": [
      "529\n"
     ]
    }
   ],
   "source": [
    "def add(a,b):\n",
    "    print(a+b)\n",
    "def sub(a,b):\n",
    "    print(a-b)\n",
    "def mul(a,b):\n",
    "    print(a*b)\n",
    "def sub(a,b):\n",
    "    print(a/b)\n",
    "def main():\n",
    "    num = eval(input(\"enter number:\"))\n",
    "    a = eval(input(\"enter number1:\"))\n",
    "    b = eval(input(\"enter nnumber2:\"))\n",
    "    if num==1:\n",
    "        add(a,b)\n",
    "    elif num==2:\n",
    "        sub(a,b)\n",
    "    elif num==3:\n",
    "        mul(a,b)\n",
    "    else:\n",
    "        div(a,b)\n",
    "main()\n",
    "    "
   ]
  },
  {
   "cell_type": "markdown",
   "id": "2b975a7a-17a5-42bf-ae04-7639284102f0",
   "metadata": {},
   "source": [
    "**for loop**"
   ]
  },
  {
   "cell_type": "code",
   "execution_count": 21,
   "id": "5465bbdb-cf95-466d-b830-0c092dbb6c01",
   "metadata": {},
   "outputs": [],
   "source": [
    "for i in range(8,20,-2):\n",
    "    print(i)"
   ]
  },
  {
   "cell_type": "code",
   "execution_count": 26,
   "id": "1f93678c-7826-469e-9d0e-c040de9cde54",
   "metadata": {},
   "outputs": [
    {
     "name": "stdin",
     "output_type": "stream",
     "text": [
      "enter number1: 4\n",
      "enter number2: 10\n"
     ]
    },
    {
     "name": "stdout",
     "output_type": "stream",
     "text": [
      "the square of 4 is 16\n",
      "the square of 5 is 25\n",
      "the square of 6 is 36\n",
      "the square of 7 is 49\n",
      "the square of 8 is 64\n",
      "the square of 9 is 81\n"
     ]
    }
   ],
   "source": [
    "num1 = eval(input(\"enter number1:\"))\n",
    "num2 = eval(input(\"enter number2:\"))\n",
    "for i in range (num1,num2):\n",
    "    print(\"the square of {} is {}\".format(i,i*i))"
   ]
  },
  {
   "cell_type": "code",
   "execution_count": 27,
   "id": "2c3290fe-549a-4e2e-ab81-371661439f15",
   "metadata": {},
   "outputs": [
    {
     "name": "stdin",
     "output_type": "stream",
     "text": [
      "enter number1: 2\n",
      "enter number2: 6\n"
     ]
    },
    {
     "name": "stdout",
     "output_type": "stream",
     "text": [
      "the square of 2 is 4\n",
      "the square of 3 is 9\n",
      "the square of 4 is 16\n",
      "the square of 5 is 25\n"
     ]
    }
   ],
   "source": [
    "def square1():\n",
    "    num1 = eval(input(\"enter number1:\"))\n",
    "    num2 = eval(input(\"enter number2:\"))\n",
    "    for i in range (num1,num2):\n",
    "        print(\"the square of {} is {}\".format(i,i*i))\n",
    "square1()"
   ]
  },
  {
   "cell_type": "code",
   "execution_count": 29,
   "id": "0f3eccea-dcb2-4cc4-b9a0-1f6daf6d9bd4",
   "metadata": {},
   "outputs": [
    {
     "name": "stdout",
     "output_type": "stream",
     "text": [
      "the square of 10 is 100\n",
      "the square of 11 is 121\n",
      "the square of 12 is 144\n",
      "the square of 13 is 169\n",
      "the square of 14 is 196\n",
      "the square of 15 is 225\n",
      "the square of 16 is 256\n",
      "the square of 17 is 289\n",
      "the square of 18 is 324\n",
      "the square of 19 is 361\n",
      "the square of 20 is 400\n",
      "the square of 21 is 441\n",
      "the square of 22 is 484\n",
      "the square of 23 is 529\n",
      "the square of 24 is 576\n",
      "the square of 25 is 625\n"
     ]
    }
   ],
   "source": [
    "def square1(num1,num2):\n",
    "     for i in range (num1,num2):\n",
    "        print(\"the square of {} is {}\".format(i,i*i))\n",
    "square1(10,26)\n",
    "    "
   ]
  },
  {
   "cell_type": "code",
   "execution_count": 2,
   "id": "62808a47-9f0f-4908-887a-8dea4ae67cd4",
   "metadata": {},
   "outputs": [
    {
     "name": "stdout",
     "output_type": "stream",
     "text": [
      "the given 26 is even\n",
      "the given 12 is even\n",
      "the given 19 is odd\n",
      "the given 33 is odd\n",
      "the given 43 is odd\n",
      "the given 34 is even\n",
      "the given 45 is odd\n",
      "the given 42 is even\n",
      "the given 15 is odd\n"
     ]
    }
   ],
   "source": [
    "def even_odd(num):\n",
    "    if num%2 == 0:\n",
    "        print(\"the given {} is even\".format(num))\n",
    "    else:\n",
    "        print(\"the given {} is odd\".format(num))\n",
    "import random\n",
    "for i in range (9):\n",
    "    num = random.randint(10,45)\n",
    "    even_odd(num)"
   ]
  },
  {
   "cell_type": "code",
   "execution_count": 5,
   "id": "d7edaa07-d170-4de9-8d04-ec76d19a5d99",
   "metadata": {},
   "outputs": [
    {
     "name": "stdout",
     "output_type": "stream",
     "text": [
      "7\n"
     ]
    },
    {
     "name": "stdin",
     "output_type": "stream",
     "text": [
      "Enter between 1 to 10 7\n"
     ]
    },
    {
     "name": "stdout",
     "output_type": "stream",
     "text": [
      "WON\n"
     ]
    }
   ],
   "source": [
    "import random\n",
    "random_num = random.randint(1,10)\n",
    "print(random_num)\n",
    "for i in range (3):\n",
    "    user_num = eval(input(\"Enter between 1 to 10\"))\n",
    "    if user_num == random_num:\n",
    "        print(\"WON\")\n",
    "        break\n",
    "    else:\n",
    "        print(\"LOST\")"
   ]
  },
  {
   "cell_type": "code",
   "execution_count": 8,
   "id": "73f58b42-042d-4112-afc2-4fd7e25c22ed",
   "metadata": {},
   "outputs": [
    {
     "name": "stdout",
     "output_type": "stream",
     "text": [
      "6\n"
     ]
    },
    {
     "name": "stdin",
     "output_type": "stream",
     "text": [
      "enter how many chances you want: 4\n",
      "Enter between 1 to 10 8\n"
     ]
    },
    {
     "name": "stdout",
     "output_type": "stream",
     "text": [
      "LOST\n",
      "the number of chances left is: 3\n"
     ]
    },
    {
     "name": "stdin",
     "output_type": "stream",
     "text": [
      "Enter between 1 to 10 7\n"
     ]
    },
    {
     "name": "stdout",
     "output_type": "stream",
     "text": [
      "LOST\n",
      "the number of chances left is: 2\n"
     ]
    },
    {
     "name": "stdin",
     "output_type": "stream",
     "text": [
      "Enter between 1 to 10 3\n"
     ]
    },
    {
     "name": "stdout",
     "output_type": "stream",
     "text": [
      "LOST\n",
      "the number of chances left is: 1\n"
     ]
    },
    {
     "name": "stdin",
     "output_type": "stream",
     "text": [
      "Enter between 1 to 10 5\n"
     ]
    },
    {
     "name": "stdout",
     "output_type": "stream",
     "text": [
      "you lost\n",
      "all chances are over\n",
      "pls try again\n"
     ]
    }
   ],
   "source": [
    "import random\n",
    "random_num = random.randint(1,10)\n",
    "print(random_num)\n",
    "chances = eval(input(\"enter how many chances you want:\"))\n",
    "for i in range (chances):\n",
    "    user_num = eval(input(\"Enter between 1 to 10\"))\n",
    "    if user_num == random_num:\n",
    "        print(\"WON\")\n",
    "        break\n",
    "    elif chances-1-i == 0:\n",
    "        print(\"you lost\")\n",
    "        print(\"all chances are over\")\n",
    "        print(\"pls try again\")\n",
    "    else:\n",
    "        print(\"LOST\")\n",
    "        print(\"the number of chances left is:\",chances-1-i)"
   ]
  },
  {
   "cell_type": "code",
   "execution_count": 21,
   "id": "6597a6c5-74a7-4780-aaa6-d1fb42a87f81",
   "metadata": {},
   "outputs": [
    {
     "name": "stdout",
     "output_type": "stream",
     "text": [
      "73\n",
      "79\n",
      "73\n",
      "55\n",
      "66\n",
      "number of values 5\n"
     ]
    }
   ],
   "source": [
    "import random\n",
    "count = 0\n",
    "for i in range(10):\n",
    "    num = random.randint(1,99)\n",
    "    if num>50:\n",
    "        print(num)\n",
    "        count += 1\n",
    "print(\"number of values\",count)"
   ]
  },
  {
   "cell_type": "code",
   "execution_count": 23,
   "id": "e73ab0ca-b7ac-4483-bd4a-541c203db4ea",
   "metadata": {},
   "outputs": [
    {
     "name": "stdin",
     "output_type": "stream",
     "text": [
      "enter which number division 10\n"
     ]
    },
    {
     "name": "stdout",
     "output_type": "stream",
     "text": [
      "10 is divisible ny 1\n",
      "10 is divisible ny 2\n",
      "10 is divisible ny 5\n",
      "10 is divisible ny 10\n",
      "The number of divisor are: 4\n"
     ]
    }
   ],
   "source": [
    "count = 0\n",
    "num = eval(input(\"enter which number division\"))\n",
    "for i in range(1,num+1):\n",
    "    if num%i == 0:\n",
    "        print(\"{} is divisible ny {}\".format(num,i))\n",
    "        count = count + 1\n",
    "print(\"The number of divisor are:\",count)\n",
    "        "
   ]
  },
  {
   "cell_type": "code",
   "execution_count": 31,
   "id": "9c8c4fc7-c0ec-436b-80c5-36ef0b4ef495",
   "metadata": {},
   "outputs": [
    {
     "name": "stdin",
     "output_type": "stream",
     "text": [
      "enter which number division 4\n"
     ]
    },
    {
     "name": "stdout",
     "output_type": "stream",
     "text": [
      "4 is divisible ny 1\n",
      "4 is divisible ny 2\n",
      "4 is divisible ny 4\n",
      "The number of divisor are: 8\n",
      "The number of non divisor are: 1\n"
     ]
    }
   ],
   "source": [
    "d_count = 0\n",
    "nd_count = 0\n",
    "num = eval(input(\"enter which number division\"))\n",
    "for i in range(1,num+1):\n",
    "    if num%i == 0:\n",
    "        print(\"{} is divisible ny {}\".format(num,i))\n",
    "        d_count = d_count + 1\n",
    "    else:\n",
    "        nd_count = nd_count + 1        \n",
    "print(\"The number of divisor are:\",count)\n",
    "print(\"The number of non divisor are:\",nd_count)       "
   ]
  },
  {
   "cell_type": "code",
   "execution_count": 34,
   "id": "3c23146f-3173-4407-a6b5-d6b1ecdd5d7d",
   "metadata": {},
   "outputs": [
    {
     "name": "stdin",
     "output_type": "stream",
     "text": [
      "enter which number division 10\n"
     ]
    },
    {
     "name": "stdout",
     "output_type": "stream",
     "text": [
      "10 is divisible ny 1\n",
      "10 is divisible ny 2\n",
      "10 is divisible ny 5\n",
      "10 is divisible ny 10\n",
      "9 6\n"
     ]
    }
   ],
   "source": [
    "def counter2():\n",
    "    d_count = 0\n",
    "    nd_count = 0\n",
    "    num = eval(input(\"enter which number division\"))\n",
    "    for i in range(1,num+1):\n",
    "        if num%i == 0:\n",
    "            print(\"{} is divisible ny {}\".format(num,i))\n",
    "            d_count = count + 1\n",
    "        else:\n",
    "            nd_count = nd_count + 1       \n",
    "    return(d_count,nd_count)\n",
    "val1,val2 = counter2()\n",
    "print(val1,val2)"
   ]
  },
  {
   "cell_type": "code",
   "execution_count": 43,
   "id": "b26b0f90-db2e-4ea4-9d72-9b2a4e4698f1",
   "metadata": {},
   "outputs": [
    {
     "data": {
      "text/plain": [
       "(4, 2)"
      ]
     },
     "execution_count": 43,
     "metadata": {},
     "output_type": "execute_result"
    }
   ],
   "source": [
    "def condition(num,d_count,nd_count,i):\n",
    "    if num%i == 0:\n",
    "        print(\"{} is divisible by {}\".format(num,i))\n",
    "        d_count = d_count+1\n",
    "    else:\n",
    "        nd_count = nd_count+1\n",
    "    return(d_count,nd_count)\n",
    "condition(10,4,1,4)\n",
    "        "
   ]
  },
  {
   "cell_type": "code",
   "execution_count": 48,
   "id": "7d7b9321-93e0-4077-9be0-b12c5244a6d6",
   "metadata": {},
   "outputs": [
    {
     "name": "stdin",
     "output_type": "stream",
     "text": [
      "enter which number is divisior 6\n"
     ]
    },
    {
     "name": "stdout",
     "output_type": "stream",
     "text": [
      "6 is divisible by 1\n",
      "6 is divisible by 2\n",
      "6 is divisible by 3\n",
      "6 is divisible by 6\n",
      "4 2\n"
     ]
    }
   ],
   "source": [
    "def counter2():\n",
    "    d_count = 0\n",
    "    nd_count = 0\n",
    "    num = eval(input(\"enter which number is divisior\"))\n",
    "    for i in range(1,num+1):\n",
    "               d_count,nd_count = condition(num,d_count,nd_count,i)\n",
    "    return(d_count,nd_count)\n",
    "val1,val2 = counter2()\n",
    "print(val1,val2)    "
   ]
  },
  {
   "cell_type": "markdown",
   "id": "7ce0e7af-5727-417e-b82a-e7c9bd18cfdd",
   "metadata": {},
   "source": [
    "## while codition"
   ]
  },
  {
   "cell_type": "code",
   "execution_count": 53,
   "id": "694ef67e-6c3b-487c-9efa-881cfd252a8f",
   "metadata": {},
   "outputs": [
    {
     "name": "stdout",
     "output_type": "stream",
     "text": [
      "0 1 2 3 4 5 6 7 8 9 "
     ]
    }
   ],
   "source": [
    "i = 0\n",
    "while i<10:\n",
    "    print(i,end = ' ')\n",
    "    i = i+1"
   ]
  },
  {
   "cell_type": "code",
   "execution_count": 57,
   "id": "5708be33-e4b1-408a-85e6-6078f7ff2d04",
   "metadata": {},
   "outputs": [
    {
     "name": "stdout",
     "output_type": "stream",
     "text": [
      "-1  -2  -3  -4  -5  -6  -7  -8  -9  -10  "
     ]
    }
   ],
   "source": [
    "i = -1\n",
    "while i>-11:\n",
    "    print(i,end='  ')\n",
    "    i = i-1"
   ]
  },
  {
   "cell_type": "code",
   "execution_count": 58,
   "id": "47ac5c0a-cac7-4a71-8eb1-69e22b8e3278",
   "metadata": {},
   "outputs": [
    {
     "name": "stdout",
     "output_type": "stream",
     "text": [
      "-1  -2  -3  -4  -5  -6  -7  -8  -9  -10  "
     ]
    }
   ],
   "source": [
    "i = -1\n",
    "while True:\n",
    "    print(i,end='  ')\n",
    "    i = i-1\n",
    "    if i == -11:\n",
    "        break"
   ]
  },
  {
   "cell_type": "code",
   "execution_count": 62,
   "id": "be179999-ccdd-4f22-8750-adc357900db4",
   "metadata": {},
   "outputs": [
    {
     "name": "stdin",
     "output_type": "stream",
     "text": [
      "enter a nimber: 6\n"
     ]
    },
    {
     "name": "stdout",
     "output_type": "stream",
     "text": [
      "the square of 6 is 36\n"
     ]
    },
    {
     "name": "stdin",
     "output_type": "stream",
     "text": [
      "enter a nimber: 4\n"
     ]
    },
    {
     "name": "stdout",
     "output_type": "stream",
     "text": [
      "the square of 4 is 16\n"
     ]
    },
    {
     "name": "stdin",
     "output_type": "stream",
     "text": [
      "enter a nimber: 3\n"
     ]
    },
    {
     "name": "stdout",
     "output_type": "stream",
     "text": [
      "the square of 3 is 9\n"
     ]
    },
    {
     "name": "stdin",
     "output_type": "stream",
     "text": [
      "enter a nimber: 2\n"
     ]
    },
    {
     "name": "stdout",
     "output_type": "stream",
     "text": [
      "the square of 2 is 4\n"
     ]
    },
    {
     "name": "stdin",
     "output_type": "stream",
     "text": [
      "enter a nimber: 1\n"
     ]
    },
    {
     "name": "stdout",
     "output_type": "stream",
     "text": [
      "the square of 1 is 1\n"
     ]
    },
    {
     "name": "stdin",
     "output_type": "stream",
     "text": [
      "enter a nimber: 8\n"
     ]
    },
    {
     "name": "stdout",
     "output_type": "stream",
     "text": [
      "the square of 8 is 64\n"
     ]
    },
    {
     "name": "stdin",
     "output_type": "stream",
     "text": [
      "enter a nimber: 6\n"
     ]
    },
    {
     "name": "stdout",
     "output_type": "stream",
     "text": [
      "the square of 6 is 36\n"
     ]
    }
   ],
   "source": [
    "i = 0\n",
    "while i<=6:\n",
    "    num = eval(input(\"enter a nimber:\"))\n",
    "    print(\"the square of {} is {}\".format(num,num*num))\n",
    "    i = i+1"
   ]
  },
  {
   "cell_type": "code",
   "execution_count": 69,
   "id": "f6085ee6-bd47-445f-aad3-0be87056e332",
   "metadata": {},
   "outputs": [
    {
     "name": "stdout",
     "output_type": "stream",
     "text": [
      "the square of 37 is 1369\n",
      "the square of 44 is 1936\n",
      "the square of 32 is 1024\n",
      "the square of 18 is 324\n",
      "the square of 48 is 2304\n",
      "the square of 39 is 1521\n"
     ]
    }
   ],
   "source": [
    "import random\n",
    "i=0\n",
    "while i<=5:\n",
    "    num = random.randint(10,50)\n",
    "    print(\"the square of {} is {}\".format(num,num*num))\n",
    "    i = i+1\n",
    "    "
   ]
  },
  {
   "cell_type": "code",
   "execution_count": 71,
   "id": "58bc22a4-2dd7-4867-9180-108500be7985",
   "metadata": {},
   "outputs": [
    {
     "name": "stdout",
     "output_type": "stream",
     "text": [
      "11 is odd number\n",
      "12 is even number\n",
      "13 is odd number\n",
      "14 is even number\n",
      "15 is odd number\n",
      "16 is even number\n",
      "17 is odd number\n",
      "18 is even number\n",
      "19 is odd number\n",
      "20 is even number\n",
      "21 is odd number\n"
     ]
    }
   ],
   "source": [
    "i = 10\n",
    "while i<21:\n",
    "    i = i+1\n",
    "    if i%2==0:\n",
    "        print(\"{} is even number\".format(i))\n",
    "    else:\n",
    "        print(\"{} is odd number\".format(i))"
   ]
  },
  {
   "cell_type": "code",
   "execution_count": 77,
   "id": "08412fe2-c789-4971-a252-3489a941fa78",
   "metadata": {},
   "outputs": [
    {
     "name": "stdout",
     "output_type": "stream",
     "text": [
      "55\n"
     ]
    }
   ],
   "source": [
    "# print sum of frist 10 natural numbers\n",
    "# ans = 55\n",
    "#for loop\n",
    "\n",
    "\n",
    "sum = 0\n",
    "for i in range(1,11):\n",
    "    sum+=i\n",
    "print(sum)"
   ]
  },
  {
   "cell_type": "code",
   "execution_count": 79,
   "id": "01e72faa-1d3f-4bdf-8acd-d72b0e2e5158",
   "metadata": {},
   "outputs": [
    {
     "name": "stdout",
     "output_type": "stream",
     "text": [
      "55\n"
     ]
    }
   ],
   "source": [
    "i = 1\n",
    "sum = 0\n",
    "while i<11:\n",
    "    sum += i\n",
    "    i=i+1\n",
    "print(sum)"
   ]
  },
  {
   "cell_type": "code",
   "execution_count": 80,
   "id": "e70faf74-4a8c-4923-be09-ea6e8221c441",
   "metadata": {},
   "outputs": [
    {
     "name": "stdout",
     "output_type": "stream",
     "text": [
      "453\n"
     ]
    }
   ],
   "source": [
    "# WAP get 10 random number between 1 to 100\n",
    "# and sum those number\n",
    "\n",
    "\n",
    "import random\n",
    "sum = 0\n",
    "for i in range (10):\n",
    "    num = random.randint(1,100)\n",
    "    sum = sum+num\n",
    "print(sum)"
   ]
  },
  {
   "cell_type": "code",
   "execution_count": 90,
   "id": "fe4bc823-8984-4960-9286-8976e4724e81",
   "metadata": {},
   "outputs": [
    {
     "name": "stdout",
     "output_type": "stream",
     "text": [
      "519\n"
     ]
    }
   ],
   "source": [
    "import random\n",
    "i = 0\n",
    "sum = 0\n",
    "while i<12:\n",
    "    num = random.randint(1,100)\n",
    "    sum = sum+num\n",
    "    i = i+1\n",
    "print(sum)\n",
    "    "
   ]
  },
  {
   "cell_type": "code",
   "execution_count": 92,
   "id": "1e162c7b-2dc9-4b56-bb6a-72291134cf55",
   "metadata": {},
   "outputs": [
    {
     "name": "stdout",
     "output_type": "stream",
     "text": [
      "52  65  93  92  87  73  77  72  82  78  52  90  79  87  14\n"
     ]
    }
   ],
   "source": [
    "#  WAP ask user get a 10 random numbers\n",
    "# count how many are greater than 50\n",
    "\n",
    "\n",
    "import random \n",
    "count = 0\n",
    "i = 0\n",
    "while i<20:\n",
    "    num = random.randint(10,100)\n",
    "    if num>45:\n",
    "        print(num,end=\"  \")\n",
    "        count+=1\n",
    "    i = i+1\n",
    "print(count)\n"
   ]
  },
  {
   "cell_type": "markdown",
   "id": "2db1be25-6954-4ad7-b061-8237058ba58d",
   "metadata": {},
   "source": [
    "## strings"
   ]
  },
  {
   "cell_type": "code",
   "execution_count": 5,
   "id": "43817a4c-60ed-4878-b8d5-210bbbaeca70",
   "metadata": {},
   "outputs": [
    {
     "name": "stdout",
     "output_type": "stream",
     "text": [
      "7\n"
     ]
    }
   ],
   "source": [
    "# WAP count the number of vowels in a given steing\n",
    "# string = hii how are you\n",
    "\n",
    "string = 'hai how are you'\n",
    "count = 0\n",
    "for i in string:\n",
    "    if i in 'aeiou':\n",
    "        count = count+1\n",
    "print(count)"
   ]
  },
  {
   "cell_type": "code",
   "execution_count": 1,
   "id": "8b8b9121-4cd3-4f76-81d2-75da9adcb8fc",
   "metadata": {},
   "outputs": [
    {
     "name": "stdout",
     "output_type": "stream",
     "text": [
      "3\n"
     ]
    }
   ],
   "source": [
    "# WAP count the numer of unique vowels in a given string\n",
    "# ams:5\n",
    "\n",
    "string = 'hai how are you'\n",
    "count = 1\n",
    "for i in string:\n",
    "    if i in 'a':\n",
    "        count = count+1\n",
    "print(count)\n",
    "\n",
    "\n"
   ]
  },
  {
   "cell_type": "code",
   "execution_count": 3,
   "id": "bb94e4ee-e8b3-4b09-9539-1964a9ee51b8",
   "metadata": {},
   "outputs": [
    {
     "name": "stdout",
     "output_type": "stream",
     "text": [
      "2\n"
     ]
    }
   ],
   "source": [
    "# range operator\n",
    "\n",
    "# WAP count the numer of unique vowels in a given string\n",
    "# ams:5\n",
    "\n",
    "string = 'hai how are you'\n",
    "count = 0\n",
    "for i in range (len(string)):\n",
    "    if string[i] == 'a':\n",
    "        count = count+1\n",
    "print(count)"
   ]
  },
  {
   "cell_type": "code",
   "execution_count": null,
   "id": "47ab3934-f406-49ab-ba24-33167ecff004",
   "metadata": {},
   "outputs": [],
   "source": []
  },
  {
   "cell_type": "code",
   "execution_count": null,
   "id": "2484c2c3-18c2-44a8-85ed-13c05c39c9d7",
   "metadata": {},
   "outputs": [],
   "source": []
  },
  {
   "cell_type": "markdown",
   "id": "e5e86827-7e7e-42db-81df-733defabdf58",
   "metadata": {},
   "source": [
    "$index$"
   ]
  },
  {
   "cell_type": "code",
   "execution_count": 9,
   "id": "ac8de6b1-045a-4e4c-81ea-657af071cc69",
   "metadata": {},
   "outputs": [
    {
     "data": {
      "text/plain": [
       "('p', 'y', 't', 'h', 'o', 'n')"
      ]
     },
     "execution_count": 9,
     "metadata": {},
     "output_type": "execute_result"
    }
   ],
   "source": [
    "string1 = 'python'\n",
    "string1[0],string1[1],string1[2],string1[3],string1[4],string1[5]"
   ]
  },
  {
   "cell_type": "code",
   "execution_count": 12,
   "id": "cf40c943-93e8-41a4-9e8d-70c8d6d60df9",
   "metadata": {},
   "outputs": [
    {
     "name": "stdout",
     "output_type": "stream",
     "text": [
      "the negative indexs of python is 0\n",
      "the negative indexs of python is 1\n",
      "the negative indexs of python is 2\n",
      "the negative indexs of python is 3\n",
      "the negative indexs of python is 4\n",
      "the negative indexs of python is 5\n"
     ]
    }
   ],
   "source": [
    "o = 'python'\n",
    "for i in range (len(o)):\n",
    "    print(\"the negative indexs of {} is {}\".format(o,i))"
   ]
  },
  {
   "cell_type": "code",
   "execution_count": null,
   "id": "9450ae16-3041-4dc2-bbf1-57e1515555f9",
   "metadata": {},
   "outputs": [],
   "source": []
  },
  {
   "cell_type": "code",
   "execution_count": null,
   "id": "ea718d24-f302-4c64-bcea-5b72358f93a2",
   "metadata": {},
   "outputs": [],
   "source": []
  },
  {
   "cell_type": "code",
   "execution_count": null,
   "id": "8e1daf40-7619-42a3-b838-81845f3bb38f",
   "metadata": {},
   "outputs": [],
   "source": []
  },
  {
   "cell_type": "code",
   "execution_count": null,
   "id": "370dd6ec-15c8-4713-b324-0ccfdce63c45",
   "metadata": {},
   "outputs": [],
   "source": []
  },
  {
   "cell_type": "code",
   "execution_count": null,
   "id": "3d4291af-84d8-475a-948b-c3fc03558129",
   "metadata": {},
   "outputs": [],
   "source": []
  },
  {
   "cell_type": "code",
   "execution_count": null,
   "id": "bd029de1-38ed-428f-87ba-196557baeb4c",
   "metadata": {},
   "outputs": [],
   "source": []
  }
 ],
 "metadata": {
  "kernelspec": {
   "display_name": "Python 3 (ipykernel)",
   "language": "python",
   "name": "python3"
  },
  "language_info": {
   "codemirror_mode": {
    "name": "ipython",
    "version": 3
   },
   "file_extension": ".py",
   "mimetype": "text/x-python",
   "name": "python",
   "nbconvert_exporter": "python",
   "pygments_lexer": "ipython3",
   "version": "3.13.5"
  }
 },
 "nbformat": 4,
 "nbformat_minor": 5
}
